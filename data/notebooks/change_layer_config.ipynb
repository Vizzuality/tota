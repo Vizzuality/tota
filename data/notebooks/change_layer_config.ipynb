{
 "cells": [
  {
   "cell_type": "markdown",
   "metadata": {},
   "source": [
    "### Update config of Fires data to Layer Manger 3"
   ]
  },
  {
   "cell_type": "markdown",
   "metadata": {},
   "source": [
    "We want to fecth the Active Fires from Resource Watch but the layerConfig in RW is outdated to use with layer Manger 3, which we use in the TOTA platform. We need to adapt the layer config"
   ]
  },
  {
   "cell_type": "markdown",
   "metadata": {},
   "source": [
    "#### Get the Fires dataset"
   ]
  },
  {
   "cell_type": "code",
   "execution_count": 1,
   "metadata": {},
   "outputs": [],
   "source": [
    "import LMIPy as lmi\n",
    "import json"
   ]
  },
  {
   "cell_type": "code",
   "execution_count": 2,
   "metadata": {},
   "outputs": [],
   "source": [
    "# All Fires dataset\n",
    "l = lmi.Layer('ec7ce55d-5c77-486b-b86b-e2e46adde9f6')"
   ]
  },
  {
   "cell_type": "code",
   "execution_count": 4,
   "metadata": {},
   "outputs": [
    {
     "data": {
      "text/html": [
       "<div class='item_container' style='height: auto; overflow: hidden; border: 3px solid #2BA4A0;border-radius: 2px; background: #fff; line-height: 1.21429em; padding: 10px;''><div class='item_left' style='width: 210px; float: left;''><a href='https://resourcewatch.org/' target='_blank'><img class='itemThumbnail' src='https://resourcewatch.org/static/images/logo-embed.png'></a></div><div class='item_right' style='float: none; width: auto; hidden;padding-left: 10px; overflow: hidden;''><a href=https://api.resourcewatch.org/v1/layer/ec7ce55d-5c77-486b-b86b-e2e46adde9f6?includes=vocabulary,metadata target='_blank'><b>July 05, 2021 - July 11, 2021 All Fires</b></a><br> Data source cartodb | Layer in RW.<br>Last Modified: 2021-07-12T12:59:22.900Z<br><a href='https://api.resourcewatch.org/v1/fields/ec7ce55d-5c77-486b-b86b-e2e46adde9f6' target='_blank'>Fields</a> Connector: cartodb | Published: True </div> </div>"
      ],
      "text/plain": [
       "Layer ec7ce55d-5c77-486b-b86b-e2e46adde9f6 July 05, 2021 - July 11, 2021 All Fires"
      ]
     },
     "execution_count": 4,
     "metadata": {},
     "output_type": "execute_result"
    }
   ],
   "source": [
    "l"
   ]
  },
  {
   "cell_type": "code",
   "execution_count": 14,
   "metadata": {},
   "outputs": [
    {
     "data": {
      "text/plain": [
       "{'account': 'rw-nrt',\n",
       " 'body': {'maxzoom': 18,\n",
       "  'minzoom': 3,\n",
       "  'layers': [{'type': 'cartodb',\n",
       "    'options': {'sql': \"SELECT cartodb_id, the_geom, acq_date, acq_time, acq_date::text as date_str, acq_time::text as time_str, frp, latitude, longitude, the_geom_webmercator, CASE WHEN acq_date>= (CURRENT_DATE - interval '7 day') AND acq_date< (CURRENT_DATE - interval '6 day') THEN 7 WHEN acq_date>= (CURRENT_DATE - interval '6 day') AND acq_date< (CURRENT_DATE - interval '5 day') THEN 6 WHEN acq_date>= (CURRENT_DATE - interval '5 day') AND acq_date< (CURRENT_DATE - interval '4 day') THEN 5 WHEN acq_date>= (CURRENT_DATE - interval '4 day') AND acq_date< (CURRENT_DATE - interval '3 day') THEN 4 WHEN acq_date>= (CURRENT_DATE - interval '3 day') AND acq_date< (CURRENT_DATE - interval '2 day') THEN 3 WHEN acq_date>= (CURRENT_DATE - interval '2 day') AND acq_date< (CURRENT_DATE - interval '1 day') THEN 2 WHEN acq_date>= (CURRENT_DATE - interval '1 day') THEN 1 ELSE -1 END AS days_ago FROM vnp14imgtdl_nrt_global_7d where (acq_date> (CURRENT_DATE - interval '7 day')) ORDER BY acq_date asc, frp asc\",\n",
       "     'cartocss': '#layer { marker-width: 4; marker-fill-opacity: 1; marker-line-color: #FFF; marker-line-width: 0; marker-line-opacity: 1; marker-placement: point; marker-type: ellipse; marker-allow-overlap: true; }[days_ago=7]{marker-fill: #EA0000;}[days_ago=6]{marker-fill: #FF2600;}[days_ago=5]{marker-fill: #FF6600;}[days_ago=4]{marker-fill: #FF8C00;}[days_ago=3]{marker-fill: #FFB200;}[days_ago=2]{marker-fill: #FFD900;}[days_ago=1]{marker-fill: #FFFF00;}',\n",
       "     'cartocss_version': '2.3.0'}}],\n",
       "  'vectorLayers': [{'paint': {'circle-color': ['step',\n",
       "      ['to-number', ['get', 'days_ago']],\n",
       "      '#FFFF00',\n",
       "      2,\n",
       "      '#FFD900',\n",
       "      3,\n",
       "      '#FFB200',\n",
       "      4,\n",
       "      '#FF8C00',\n",
       "      5,\n",
       "      '#FF6600',\n",
       "      6,\n",
       "      '#FF2600',\n",
       "      7,\n",
       "      '#EA0000'],\n",
       "     'circle-stroke-color': '#ccc',\n",
       "     'circle-opacity': 0.9,\n",
       "     'circle-stroke-opacity': 0.3,\n",
       "     'circle-radius': ['interpolate',\n",
       "      ['linear'],\n",
       "      ['zoom'],\n",
       "      0,\n",
       "      1,\n",
       "      6,\n",
       "      4,\n",
       "      12,\n",
       "      12,\n",
       "      16,\n",
       "      90]},\n",
       "    'source-layer': 'layer0',\n",
       "    'type': 'circle',\n",
       "    'filter': ['all']}]},\n",
       " 'pulseConfig': {'type': 'imageOverlay',\n",
       "  'values': {'format': 'png',\n",
       "   'bbox': [-110, -65, 110, 65],\n",
       "   'width': 2048,\n",
       "   'height': 1024},\n",
       "  'sql': \"SELECT ST_Transform(the_geom_webmercator, 32663) as the_geom_webmercator, bright_ti4, scan, track, acq_date, acq_time, satellite, confidence, version, bright_ti5, frp, daynight FROM vnp14imgtdl_nrt_global_7d WHERE (acq_date> (CURRENT_DATE - interval '7 day'))\",\n",
       "  'urlTemplate': 'https://{{account}}.carto.com/api/v1/map/static/bbox/{{token_groupid}}/{{bbox}}/{{width}}/{{height}}.{{format}}'},\n",
       " 'layerType': 'vector'}"
      ]
     },
     "execution_count": 14,
     "metadata": {},
     "output_type": "execute_result"
    }
   ],
   "source": [
    "l.attributes['layerConfig']"
   ]
  },
  {
   "cell_type": "code",
   "execution_count": 15,
   "metadata": {},
   "outputs": [
    {
     "data": {
      "text/plain": [
       "{'source': {'type': 'vector',\n",
       "  'provider': {'type': 'carto',\n",
       "   'account': 'wri-01',\n",
       "   'layers': [{'options': {'sql': \"SELECT cartodb_id, the_geom_webmercator, name, to_number(size_ha,'999999999999') as area_ha, category, issuedate as date_create FROM khm_protected_areas\",\n",
       "      'type': 'cartodb'}}]}},\n",
       " 'render': {'layers': [{'type': 'fill',\n",
       "    'source-layer': 'layer0',\n",
       "    'paint': {'fill-opacity': 0.6, 'fill-color': '#3182BD'}},\n",
       "   {'type': 'line',\n",
       "    'source-layer': 'layer0',\n",
       "    'paint': {'line-opacity': 1, 'line-color': '#FFF', 'line-width': 0.25}}]},\n",
       " 'type': 'vector',\n",
       " 'version': '3.0'}"
      ]
     },
     "execution_count": 15,
     "metadata": {},
     "output_type": "execute_result"
    }
   ],
   "source": [
    "### Fecth another CARTO dataset that has the new config\n",
    "l3 = lmi.Layer('f72e7a11-e0e2-4cbc-a645-5593d3f050fa')\n",
    "l3.attributes['layerConfig']"
   ]
  },
  {
   "cell_type": "code",
   "execution_count": 16,
   "metadata": {},
   "outputs": [],
   "source": [
    "atts = l.attributes\n",
    "lc = atts['layerConfig']\n",
    "new_lc = {\n",
    "    \"type\": \"vector\",\n",
    "    \"version\": \"3.0\", ## Layer Manager Version tracking, optional\n",
    "    \"source\": { ## 'where do I fetch the data from'\n",
    "        \"type\": \"vector\",\n",
    "        \"provider\": { ##carto stuff\n",
    "            \"type\": \"carto\",\n",
    "            'account': lc['account'],\n",
    "            'layers': lc['body']['layers']\n",
    "        }\n",
    "    },\n",
    "    \"render\": { ## 'how should it look'\n",
    "        \"layers\": lc['body']['vectorLayers'] #...vectorLayers key from carto config \n",
    "    }\n",
    "}"
   ]
  },
  {
   "cell_type": "code",
   "execution_count": 17,
   "metadata": {},
   "outputs": [
    {
     "data": {
      "text/plain": [
       "{'name': 'July 05, 2021 - July 11, 2021 All Fires',\n",
       " 'slug': 'All-Fires-Past-Week_10',\n",
       " 'dataset': '64c948a6-5e34-4ef2-bb69-6a6535967bd5',\n",
       " 'description': 'This layer shows fires detected in the past week.',\n",
       " 'application': ['rw'],\n",
       " 'iso': [],\n",
       " 'provider': 'vector',\n",
       " 'type': 'layer',\n",
       " 'userId': '5ba001878e311b7e3718740f',\n",
       " 'default': False,\n",
       " 'protected': False,\n",
       " 'published': True,\n",
       " 'env': 'production',\n",
       " 'layerConfig': {'type': 'vector',\n",
       "  'version': '3.0',\n",
       "  'source': {'type': 'vector',\n",
       "   'provider': {'type': 'carto',\n",
       "    'account': 'rw-nrt',\n",
       "    'layers': [{'type': 'cartodb',\n",
       "      'options': {'sql': \"SELECT cartodb_id, the_geom, acq_date, acq_time, acq_date::text as date_str, acq_time::text as time_str, frp, latitude, longitude, the_geom_webmercator, CASE WHEN acq_date>= (CURRENT_DATE - interval '7 day') AND acq_date< (CURRENT_DATE - interval '6 day') THEN 7 WHEN acq_date>= (CURRENT_DATE - interval '6 day') AND acq_date< (CURRENT_DATE - interval '5 day') THEN 6 WHEN acq_date>= (CURRENT_DATE - interval '5 day') AND acq_date< (CURRENT_DATE - interval '4 day') THEN 5 WHEN acq_date>= (CURRENT_DATE - interval '4 day') AND acq_date< (CURRENT_DATE - interval '3 day') THEN 4 WHEN acq_date>= (CURRENT_DATE - interval '3 day') AND acq_date< (CURRENT_DATE - interval '2 day') THEN 3 WHEN acq_date>= (CURRENT_DATE - interval '2 day') AND acq_date< (CURRENT_DATE - interval '1 day') THEN 2 WHEN acq_date>= (CURRENT_DATE - interval '1 day') THEN 1 ELSE -1 END AS days_ago FROM vnp14imgtdl_nrt_global_7d where (acq_date> (CURRENT_DATE - interval '7 day')) ORDER BY acq_date asc, frp asc\",\n",
       "       'cartocss': '#layer { marker-width: 4; marker-fill-opacity: 1; marker-line-color: #FFF; marker-line-width: 0; marker-line-opacity: 1; marker-placement: point; marker-type: ellipse; marker-allow-overlap: true; }[days_ago=7]{marker-fill: #EA0000;}[days_ago=6]{marker-fill: #FF2600;}[days_ago=5]{marker-fill: #FF6600;}[days_ago=4]{marker-fill: #FF8C00;}[days_ago=3]{marker-fill: #FFB200;}[days_ago=2]{marker-fill: #FFD900;}[days_ago=1]{marker-fill: #FFFF00;}',\n",
       "       'cartocss_version': '2.3.0'}}]}},\n",
       "  'render': {'layers': [{'paint': {'circle-color': ['step',\n",
       "       ['to-number', ['get', 'days_ago']],\n",
       "       '#FFFF00',\n",
       "       2,\n",
       "       '#FFD900',\n",
       "       3,\n",
       "       '#FFB200',\n",
       "       4,\n",
       "       '#FF8C00',\n",
       "       5,\n",
       "       '#FF6600',\n",
       "       6,\n",
       "       '#FF2600',\n",
       "       7,\n",
       "       '#EA0000'],\n",
       "      'circle-stroke-color': '#ccc',\n",
       "      'circle-opacity': 0.9,\n",
       "      'circle-stroke-opacity': 0.3,\n",
       "      'circle-radius': ['interpolate',\n",
       "       ['linear'],\n",
       "       ['zoom'],\n",
       "       0,\n",
       "       1,\n",
       "       6,\n",
       "       4,\n",
       "       12,\n",
       "       12,\n",
       "       16,\n",
       "       90]},\n",
       "     'source-layer': 'layer0',\n",
       "     'type': 'circle',\n",
       "     'filter': ['all']}]}},\n",
       " 'legendConfig': {'type': 'choropleth',\n",
       "  'items': [{'name': '7 days ago', 'color': '#EA0000', 'id': 0},\n",
       "   {'name': '6 days ago', 'color': '#FF2600', 'id': 1},\n",
       "   {'name': '5 days ago', 'color': '#FF6600', 'id': 2},\n",
       "   {'name': '4 days ago', 'color': '#FF8C00', 'id': 3},\n",
       "   {'name': '3 days ago', 'color': '#FFB200', 'id': 4},\n",
       "   {'name': '2 days ago', 'color': '#FFD900', 'id': 5},\n",
       "   {'name': '1 day ago', 'color': '#FFFF00', 'id': 6}]},\n",
       " 'interactionConfig': {'output': [{'column': 'frp',\n",
       "    'format': None,\n",
       "    'prefix': '',\n",
       "    'property': 'Fire Radiative Power',\n",
       "    'suffix': ' K',\n",
       "    'type': 'number'},\n",
       "   {'column': 'date_str',\n",
       "    'format': None,\n",
       "    'prefix': '',\n",
       "    'property': 'Date',\n",
       "    'suffix': ''},\n",
       "   {'column': 'time_str',\n",
       "    'format': None,\n",
       "    'prefix': '',\n",
       "    'property': 'Time',\n",
       "    'suffix': ' UTC'}]},\n",
       " 'applicationConfig': {},\n",
       " 'staticImageConfig': {},\n",
       " 'createdAt': '2019-10-23T15:59:53.990Z',\n",
       " 'updatedAt': '2021-07-12T12:59:22.900Z'}"
      ]
     },
     "execution_count": 17,
     "metadata": {},
     "output_type": "execute_result"
    }
   ],
   "source": [
    "new_config = {\n",
    "    **atts,\n",
    "    \"provider\": 'vector',\n",
    "    'layerConfig': new_lc\n",
    "}\n",
    "new_config"
   ]
  },
  {
   "cell_type": "code",
   "execution_count": 18,
   "metadata": {},
   "outputs": [],
   "source": [
    "with open('all_fires_lmv3.json', 'w') as fp:\n",
    "    json.dump(new_config, fp)"
   ]
  },
  {
   "cell_type": "markdown",
   "metadata": {},
   "source": [
    "## + Get Fires endate and begin date for legend"
   ]
  },
  {
   "cell_type": "code",
   "execution_count": 11,
   "metadata": {},
   "outputs": [],
   "source": [
    "### Get source Table (id is dataset id)\n",
    "t = lmi.Table('64c948a6-5e34-4ef2-bb69-6a6535967bd5')"
   ]
  },
  {
   "cell_type": "code",
   "execution_count": 13,
   "metadata": {},
   "outputs": [
    {
     "name": "stdout",
     "output_type": "stream",
     "text": [
      "https://api.resourcewatch.org/v1/query/64c948a6-5e34-4ef2-bb69-6a6535967bd5?sql=SELECT%20MIN(acq_date)%20AS%20startDate,MAX(acq_date)%20AS%20endDate%20FROM%20vnp14imgtdl_nrt_global_7d\n"
     ]
    },
    {
     "data": {
      "text/html": [
       "<div>\n",
       "<style scoped>\n",
       "    .dataframe tbody tr th:only-of-type {\n",
       "        vertical-align: middle;\n",
       "    }\n",
       "\n",
       "    .dataframe tbody tr th {\n",
       "        vertical-align: top;\n",
       "    }\n",
       "\n",
       "    .dataframe thead th {\n",
       "        text-align: right;\n",
       "    }\n",
       "</style>\n",
       "<table border=\"1\" class=\"dataframe\">\n",
       "  <thead>\n",
       "    <tr style=\"text-align: right;\">\n",
       "      <th></th>\n",
       "      <th>startdate</th>\n",
       "      <th>enddate</th>\n",
       "    </tr>\n",
       "  </thead>\n",
       "  <tbody>\n",
       "    <tr>\n",
       "      <th>0</th>\n",
       "      <td>2021-06-30T00:00:00Z</td>\n",
       "      <td>2021-07-07T00:00:00Z</td>\n",
       "    </tr>\n",
       "  </tbody>\n",
       "</table>\n",
       "</div>"
      ],
      "text/plain": [
       "              startdate               enddate\n",
       "0  2021-06-30T00:00:00Z  2021-07-07T00:00:00Z"
      ]
     },
     "execution_count": 13,
     "metadata": {},
     "output_type": "execute_result"
    }
   ],
   "source": [
    "t.query(\"SELECT MIN(acq_date) AS startDate,MAX(acq_date) AS endDate FROM data\")"
   ]
  },
  {
   "cell_type": "code",
   "execution_count": null,
   "metadata": {},
   "outputs": [],
   "source": [
    "### Add new params config with the query"
   ]
  },
  {
   "cell_type": "code",
   "execution_count": 20,
   "metadata": {},
   "outputs": [],
   "source": [
    "new_config['layerConfig']['params_config']=[\n",
    "{\n",
    "\"url\": \"https://api.resourcewatch.org/v1/query/64c948a6-5e34-4ef2-bb69-6a6535967bd5?sql=SELECT%20MAX(acq_date)%20AS%20endDate,%20MIN(acq_date)%20AS%20startDate%20FROM%20vnp14imgtdl_nrt_global_7d\",\n",
    "\"key\": \"startDate\",\n",
    "\"required\": True\n",
    "},\n",
    "{\n",
    "\"key\": \"endDate\",\n",
    "\"required\": True,\n",
    "\"url\": \"https://api.resourcewatch.org/v1/query/64c948a6-5e34-4ef2-bb69-6a6535967bd5?sql=SELECT%20MAX(acq_date)%20AS%20endDate,%20MIN(acq_date)%20AS%20startDate%20FROM%20vnp14imgtdl_nrt_global_7d\"\n",
    "}]"
   ]
  },
  {
   "cell_type": "code",
   "execution_count": 22,
   "metadata": {},
   "outputs": [],
   "source": [
    "with open('all_fires_lmv3.json', 'w') as fp:\n",
    "    json.dump(new_config, fp)"
   ]
  },
  {
   "cell_type": "code",
   "execution_count": null,
   "metadata": {},
   "outputs": [],
   "source": []
  }
 ],
 "metadata": {
  "kernelspec": {
   "display_name": "Python 3",
   "language": "python",
   "name": "python3"
  },
  "language_info": {
   "codemirror_mode": {
    "name": "ipython",
    "version": 3
   },
   "file_extension": ".py",
   "mimetype": "text/x-python",
   "name": "python",
   "nbconvert_exporter": "python",
   "pygments_lexer": "ipython3",
   "version": "3.7.4"
  }
 },
 "nbformat": 4,
 "nbformat_minor": 4
}
