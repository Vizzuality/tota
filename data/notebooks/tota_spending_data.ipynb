{
 "cells": [
  {
   "cell_type": "markdown",
   "id": "3499f305-0272-4642-aecd-cb3965b0b419",
   "metadata": {},
   "source": [
    "# TOTA spending data.  \n",
    "\n",
    "This notebook explores the spending data and potential visualizations."
   ]
  },
  {
   "cell_type": "code",
   "execution_count": 6,
   "id": "bf458513-4d3c-4dcc-9f75-4f8792d81a6d",
   "metadata": {
    "vscode": {
     "languageId": "python"
    }
   },
   "outputs": [],
   "source": [
    "import pandas as pd \n",
    "import matplotlib.pyplot as plt\n",
    "import datetime\n",
    "import numpy as np\n",
    "import math\n",
    "import seaborn as sns"
   ]
  },
  {
   "cell_type": "code",
   "execution_count": 26,
   "id": "bbd06f2d-8244-48c9-a44f-e7c762021f77",
   "metadata": {
    "vscode": {
     "languageId": "python"
    }
   },
   "outputs": [
    {
     "data": {
      "text/html": [
       "<div>\n",
       "<style scoped>\n",
       "    .dataframe tbody tr th:only-of-type {\n",
       "        vertical-align: middle;\n",
       "    }\n",
       "\n",
       "    .dataframe tbody tr th {\n",
       "        vertical-align: top;\n",
       "    }\n",
       "\n",
       "    .dataframe thead th {\n",
       "        text-align: right;\n",
       "    }\n",
       "</style>\n",
       "<table border=\"1\" class=\"dataframe\">\n",
       "  <thead>\n",
       "    <tr style=\"text-align: right;\">\n",
       "      <th></th>\n",
       "      <th>Date</th>\n",
       "      <th>ITS Spend Category Name</th>\n",
       "      <th>Origin Tourism Region</th>\n",
       "      <th>Destination Tourism Region</th>\n",
       "      <th>Spend</th>\n",
       "      <th>Destination Province</th>\n",
       "      <th>Benchmark</th>\n",
       "      <th>Origin Country</th>\n",
       "      <th>Origin Country / Province</th>\n",
       "      <th>Year</th>\n",
       "    </tr>\n",
       "  </thead>\n",
       "  <tbody>\n",
       "    <tr>\n",
       "      <th>0</th>\n",
       "      <td>2019-11-01</td>\n",
       "      <td>Clothes and Gifts</td>\n",
       "      <td>Kawartha and Northumberland</td>\n",
       "      <td>Rest of Newfoundland</td>\n",
       "      <td>3.146432e+03</td>\n",
       "      <td>Newfoundland and Labrador</td>\n",
       "      <td>Final</td>\n",
       "      <td>Canada</td>\n",
       "      <td>Ontario</td>\n",
       "      <td>2019</td>\n",
       "    </tr>\n",
       "    <tr>\n",
       "      <th>1</th>\n",
       "      <td>2019-12-01</td>\n",
       "      <td>Clothes and Gifts</td>\n",
       "      <td>Kawartha and Northumberland</td>\n",
       "      <td>Rest of Newfoundland</td>\n",
       "      <td>4.056945e+03</td>\n",
       "      <td>Newfoundland and Labrador</td>\n",
       "      <td>Final</td>\n",
       "      <td>Canada</td>\n",
       "      <td>Ontario</td>\n",
       "      <td>2019</td>\n",
       "    </tr>\n",
       "    <tr>\n",
       "      <th>2</th>\n",
       "      <td>2019-10-01</td>\n",
       "      <td>Clothes and Gifts</td>\n",
       "      <td>Kawartha and Northumberland</td>\n",
       "      <td>Rest of Newfoundland</td>\n",
       "      <td>3.507175e+03</td>\n",
       "      <td>Newfoundland and Labrador</td>\n",
       "      <td>Final</td>\n",
       "      <td>Canada</td>\n",
       "      <td>Ontario</td>\n",
       "      <td>2019</td>\n",
       "    </tr>\n",
       "    <tr>\n",
       "      <th>3</th>\n",
       "      <td>2018-04-01</td>\n",
       "      <td>Transportation</td>\n",
       "      <td>Fundy</td>\n",
       "      <td>River Valley</td>\n",
       "      <td>7.663258e+06</td>\n",
       "      <td>New Brunswick</td>\n",
       "      <td>Final</td>\n",
       "      <td>Canada</td>\n",
       "      <td>New Brunswick</td>\n",
       "      <td>2018</td>\n",
       "    </tr>\n",
       "    <tr>\n",
       "      <th>4</th>\n",
       "      <td>2018-05-01</td>\n",
       "      <td>Transportation</td>\n",
       "      <td>Fundy</td>\n",
       "      <td>River Valley</td>\n",
       "      <td>9.388367e+06</td>\n",
       "      <td>New Brunswick</td>\n",
       "      <td>Final</td>\n",
       "      <td>Canada</td>\n",
       "      <td>New Brunswick</td>\n",
       "      <td>2018</td>\n",
       "    </tr>\n",
       "    <tr>\n",
       "      <th>5</th>\n",
       "      <td>2018-06-01</td>\n",
       "      <td>Transportation</td>\n",
       "      <td>Fundy</td>\n",
       "      <td>River Valley</td>\n",
       "      <td>9.499675e+06</td>\n",
       "      <td>New Brunswick</td>\n",
       "      <td>Final</td>\n",
       "      <td>Canada</td>\n",
       "      <td>New Brunswick</td>\n",
       "      <td>2018</td>\n",
       "    </tr>\n",
       "    <tr>\n",
       "      <th>6</th>\n",
       "      <td>2018-08-01</td>\n",
       "      <td>Clothes and Gifts</td>\n",
       "      <td>Miramichi</td>\n",
       "      <td>Alberni-Clayoquot</td>\n",
       "      <td>0.000000e+00</td>\n",
       "      <td>British Columbia</td>\n",
       "      <td>Final</td>\n",
       "      <td>Canada</td>\n",
       "      <td>New Brunswick</td>\n",
       "      <td>2018</td>\n",
       "    </tr>\n",
       "    <tr>\n",
       "      <th>7</th>\n",
       "      <td>2018-07-01</td>\n",
       "      <td>Clothes and Gifts</td>\n",
       "      <td>Miramichi</td>\n",
       "      <td>Alberni-Clayoquot</td>\n",
       "      <td>0.000000e+00</td>\n",
       "      <td>British Columbia</td>\n",
       "      <td>Final</td>\n",
       "      <td>Canada</td>\n",
       "      <td>New Brunswick</td>\n",
       "      <td>2018</td>\n",
       "    </tr>\n",
       "    <tr>\n",
       "      <th>8</th>\n",
       "      <td>2018-09-01</td>\n",
       "      <td>Clothes and Gifts</td>\n",
       "      <td>Miramichi</td>\n",
       "      <td>Alberni-Clayoquot</td>\n",
       "      <td>0.000000e+00</td>\n",
       "      <td>British Columbia</td>\n",
       "      <td>Final</td>\n",
       "      <td>Canada</td>\n",
       "      <td>New Brunswick</td>\n",
       "      <td>2018</td>\n",
       "    </tr>\n",
       "    <tr>\n",
       "      <th>9</th>\n",
       "      <td>2020-09-01</td>\n",
       "      <td>Food and Beverage</td>\n",
       "      <td>Haliburton Highlands and the Ottawa Valley</td>\n",
       "      <td>Rest of Newfoundland</td>\n",
       "      <td>1.115483e+02</td>\n",
       "      <td>Newfoundland and Labrador</td>\n",
       "      <td>Final</td>\n",
       "      <td>Canada</td>\n",
       "      <td>Ontario</td>\n",
       "      <td>2020</td>\n",
       "    </tr>\n",
       "    <tr>\n",
       "      <th>10</th>\n",
       "      <td>2020-08-01</td>\n",
       "      <td>Food and Beverage</td>\n",
       "      <td>Haliburton Highlands and the Ottawa Valley</td>\n",
       "      <td>Rest of Newfoundland</td>\n",
       "      <td>1.122409e+02</td>\n",
       "      <td>Newfoundland and Labrador</td>\n",
       "      <td>Final</td>\n",
       "      <td>Canada</td>\n",
       "      <td>Ontario</td>\n",
       "      <td>2020</td>\n",
       "    </tr>\n",
       "    <tr>\n",
       "      <th>11</th>\n",
       "      <td>2020-07-01</td>\n",
       "      <td>Food and Beverage</td>\n",
       "      <td>Haliburton Highlands and the Ottawa Valley</td>\n",
       "      <td>Rest of Newfoundland</td>\n",
       "      <td>9.192832e+01</td>\n",
       "      <td>Newfoundland and Labrador</td>\n",
       "      <td>Final</td>\n",
       "      <td>Canada</td>\n",
       "      <td>Ontario</td>\n",
       "      <td>2020</td>\n",
       "    </tr>\n",
       "    <tr>\n",
       "      <th>12</th>\n",
       "      <td>2018-06-01</td>\n",
       "      <td>Transportation</td>\n",
       "      <td>Montérégie</td>\n",
       "      <td>North-Eastern Ontario</td>\n",
       "      <td>5.312419e+04</td>\n",
       "      <td>Ontario</td>\n",
       "      <td>Final</td>\n",
       "      <td>Canada</td>\n",
       "      <td>Quebec</td>\n",
       "      <td>2018</td>\n",
       "    </tr>\n",
       "    <tr>\n",
       "      <th>13</th>\n",
       "      <td>2018-05-01</td>\n",
       "      <td>Transportation</td>\n",
       "      <td>Montérégie</td>\n",
       "      <td>North-Eastern Ontario</td>\n",
       "      <td>4.800254e+04</td>\n",
       "      <td>Ontario</td>\n",
       "      <td>Final</td>\n",
       "      <td>Canada</td>\n",
       "      <td>Quebec</td>\n",
       "      <td>2018</td>\n",
       "    </tr>\n",
       "    <tr>\n",
       "      <th>14</th>\n",
       "      <td>2018-04-01</td>\n",
       "      <td>Transportation</td>\n",
       "      <td>Montérégie</td>\n",
       "      <td>North-Eastern Ontario</td>\n",
       "      <td>3.909207e+04</td>\n",
       "      <td>Ontario</td>\n",
       "      <td>Final</td>\n",
       "      <td>Canada</td>\n",
       "      <td>Quebec</td>\n",
       "      <td>2018</td>\n",
       "    </tr>\n",
       "    <tr>\n",
       "      <th>15</th>\n",
       "      <td>2021-04-01</td>\n",
       "      <td>Transportation</td>\n",
       "      <td>Western Manitoba</td>\n",
       "      <td>Montérégie</td>\n",
       "      <td>2.264299e+04</td>\n",
       "      <td>Quebec</td>\n",
       "      <td>Preliminary</td>\n",
       "      <td>Canada</td>\n",
       "      <td>Manitoba</td>\n",
       "      <td>2021</td>\n",
       "    </tr>\n",
       "    <tr>\n",
       "      <th>16</th>\n",
       "      <td>2021-05-01</td>\n",
       "      <td>Transportation</td>\n",
       "      <td>Western Manitoba</td>\n",
       "      <td>Montérégie</td>\n",
       "      <td>2.993567e+04</td>\n",
       "      <td>Quebec</td>\n",
       "      <td>Preliminary</td>\n",
       "      <td>Canada</td>\n",
       "      <td>Manitoba</td>\n",
       "      <td>2021</td>\n",
       "    </tr>\n",
       "    <tr>\n",
       "      <th>17</th>\n",
       "      <td>2021-06-01</td>\n",
       "      <td>Transportation</td>\n",
       "      <td>Western Manitoba</td>\n",
       "      <td>Montérégie</td>\n",
       "      <td>3.476466e+04</td>\n",
       "      <td>Quebec</td>\n",
       "      <td>Preliminary</td>\n",
       "      <td>Canada</td>\n",
       "      <td>Manitoba</td>\n",
       "      <td>2021</td>\n",
       "    </tr>\n",
       "    <tr>\n",
       "      <th>18</th>\n",
       "      <td>2018-04-01</td>\n",
       "      <td>Recreation and Entertainment</td>\n",
       "      <td>Miramichi</td>\n",
       "      <td>Centre-du-Québec &amp; Chaudières-Appalaches</td>\n",
       "      <td>0.000000e+00</td>\n",
       "      <td>Quebec</td>\n",
       "      <td>Final</td>\n",
       "      <td>Canada</td>\n",
       "      <td>New Brunswick</td>\n",
       "      <td>2018</td>\n",
       "    </tr>\n",
       "    <tr>\n",
       "      <th>19</th>\n",
       "      <td>2018-05-01</td>\n",
       "      <td>Recreation and Entertainment</td>\n",
       "      <td>Miramichi</td>\n",
       "      <td>Centre-du-Québec &amp; Chaudières-Appalaches</td>\n",
       "      <td>0.000000e+00</td>\n",
       "      <td>Quebec</td>\n",
       "      <td>Final</td>\n",
       "      <td>Canada</td>\n",
       "      <td>New Brunswick</td>\n",
       "      <td>2018</td>\n",
       "    </tr>\n",
       "  </tbody>\n",
       "</table>\n",
       "</div>"
      ],
      "text/plain": [
       "          Date       ITS Spend Category Name  \\\n",
       "0   2019-11-01             Clothes and Gifts   \n",
       "1   2019-12-01             Clothes and Gifts   \n",
       "2   2019-10-01             Clothes and Gifts   \n",
       "3   2018-04-01                Transportation   \n",
       "4   2018-05-01                Transportation   \n",
       "5   2018-06-01                Transportation   \n",
       "6   2018-08-01             Clothes and Gifts   \n",
       "7   2018-07-01             Clothes and Gifts   \n",
       "8   2018-09-01             Clothes and Gifts   \n",
       "9   2020-09-01             Food and Beverage   \n",
       "10  2020-08-01             Food and Beverage   \n",
       "11  2020-07-01             Food and Beverage   \n",
       "12  2018-06-01                Transportation   \n",
       "13  2018-05-01                Transportation   \n",
       "14  2018-04-01                Transportation   \n",
       "15  2021-04-01                Transportation   \n",
       "16  2021-05-01                Transportation   \n",
       "17  2021-06-01                Transportation   \n",
       "18  2018-04-01  Recreation and Entertainment   \n",
       "19  2018-05-01  Recreation and Entertainment   \n",
       "\n",
       "                         Origin Tourism Region  \\\n",
       "0                  Kawartha and Northumberland   \n",
       "1                  Kawartha and Northumberland   \n",
       "2                  Kawartha and Northumberland   \n",
       "3                                        Fundy   \n",
       "4                                        Fundy   \n",
       "5                                        Fundy   \n",
       "6                                    Miramichi   \n",
       "7                                    Miramichi   \n",
       "8                                    Miramichi   \n",
       "9   Haliburton Highlands and the Ottawa Valley   \n",
       "10  Haliburton Highlands and the Ottawa Valley   \n",
       "11  Haliburton Highlands and the Ottawa Valley   \n",
       "12                                  Montérégie   \n",
       "13                                  Montérégie   \n",
       "14                                  Montérégie   \n",
       "15                            Western Manitoba   \n",
       "16                            Western Manitoba   \n",
       "17                            Western Manitoba   \n",
       "18                                   Miramichi   \n",
       "19                                   Miramichi   \n",
       "\n",
       "                  Destination Tourism Region         Spend  \\\n",
       "0                       Rest of Newfoundland  3.146432e+03   \n",
       "1                       Rest of Newfoundland  4.056945e+03   \n",
       "2                       Rest of Newfoundland  3.507175e+03   \n",
       "3                               River Valley  7.663258e+06   \n",
       "4                               River Valley  9.388367e+06   \n",
       "5                               River Valley  9.499675e+06   \n",
       "6                          Alberni-Clayoquot  0.000000e+00   \n",
       "7                          Alberni-Clayoquot  0.000000e+00   \n",
       "8                          Alberni-Clayoquot  0.000000e+00   \n",
       "9                       Rest of Newfoundland  1.115483e+02   \n",
       "10                      Rest of Newfoundland  1.122409e+02   \n",
       "11                      Rest of Newfoundland  9.192832e+01   \n",
       "12                     North-Eastern Ontario  5.312419e+04   \n",
       "13                     North-Eastern Ontario  4.800254e+04   \n",
       "14                     North-Eastern Ontario  3.909207e+04   \n",
       "15                                Montérégie  2.264299e+04   \n",
       "16                                Montérégie  2.993567e+04   \n",
       "17                                Montérégie  3.476466e+04   \n",
       "18  Centre-du-Québec & Chaudières-Appalaches  0.000000e+00   \n",
       "19  Centre-du-Québec & Chaudières-Appalaches  0.000000e+00   \n",
       "\n",
       "         Destination Province    Benchmark Origin Country  \\\n",
       "0   Newfoundland and Labrador        Final         Canada   \n",
       "1   Newfoundland and Labrador        Final         Canada   \n",
       "2   Newfoundland and Labrador        Final         Canada   \n",
       "3               New Brunswick        Final         Canada   \n",
       "4               New Brunswick        Final         Canada   \n",
       "5               New Brunswick        Final         Canada   \n",
       "6            British Columbia        Final         Canada   \n",
       "7            British Columbia        Final         Canada   \n",
       "8            British Columbia        Final         Canada   \n",
       "9   Newfoundland and Labrador        Final         Canada   \n",
       "10  Newfoundland and Labrador        Final         Canada   \n",
       "11  Newfoundland and Labrador        Final         Canada   \n",
       "12                    Ontario        Final         Canada   \n",
       "13                    Ontario        Final         Canada   \n",
       "14                    Ontario        Final         Canada   \n",
       "15                     Quebec  Preliminary         Canada   \n",
       "16                     Quebec  Preliminary         Canada   \n",
       "17                     Quebec  Preliminary         Canada   \n",
       "18                     Quebec        Final         Canada   \n",
       "19                     Quebec        Final         Canada   \n",
       "\n",
       "   Origin Country / Province  Year  \n",
       "0                    Ontario  2019  \n",
       "1                    Ontario  2019  \n",
       "2                    Ontario  2019  \n",
       "3              New Brunswick  2018  \n",
       "4              New Brunswick  2018  \n",
       "5              New Brunswick  2018  \n",
       "6              New Brunswick  2018  \n",
       "7              New Brunswick  2018  \n",
       "8              New Brunswick  2018  \n",
       "9                    Ontario  2020  \n",
       "10                   Ontario  2020  \n",
       "11                   Ontario  2020  \n",
       "12                    Quebec  2018  \n",
       "13                    Quebec  2018  \n",
       "14                    Quebec  2018  \n",
       "15                  Manitoba  2021  \n",
       "16                  Manitoba  2021  \n",
       "17                  Manitoba  2021  \n",
       "18             New Brunswick  2018  \n",
       "19             New Brunswick  2018  "
      ]
     },
     "execution_count": 26,
     "metadata": {},
     "output_type": "execute_result"
    }
   ],
   "source": [
    "df = pd.read_csv('../data/spending_data_2018_2021_complete.csv')\n",
    "\n",
    "df.head(20)"
   ]
  },
  {
   "cell_type": "markdown",
   "id": "b9a53d06-af78-4849-a1ae-b80771b11805",
   "metadata": {
    "tags": []
   },
   "source": [
    "## Check if all data is correct. \n",
    "- Provinces / Regions names\n",
    "- Repeated dates?\n",
    "- Equal coverage for dates / regions / category"
   ]
  },
  {
   "cell_type": "markdown",
   "id": "b8da6f88-6fe9-49d8-978e-65ed20d749cc",
   "metadata": {},
   "source": [
    "#### Provinces / Regions names"
   ]
  },
  {
   "cell_type": "code",
   "execution_count": 8,
   "id": "7ee031e3-43d5-4c93-94ca-54390a1147e1",
   "metadata": {
    "vscode": {
     "languageId": "python"
    }
   },
   "outputs": [
    {
     "data": {
      "text/plain": [
       "array(['Newfoundland and Labrador', 'New Brunswick', 'British Columbia',\n",
       "       'Ontario', 'Quebec', 'Nova Scotia', 'Manitoba', 'Yukon',\n",
       "       'Prince Edward Island', 'Northwest Territories', 'Alberta',\n",
       "       'Saskatchewan', 'Nunavut'], dtype=object)"
      ]
     },
     "execution_count": 8,
     "metadata": {},
     "output_type": "execute_result"
    }
   ],
   "source": [
    "df['Destination Province'].unique()"
   ]
  },
  {
   "cell_type": "code",
   "execution_count": 9,
   "id": "7f633b76-067e-4773-9ece-5017e3dfc964",
   "metadata": {
    "vscode": {
     "languageId": "python"
    }
   },
   "outputs": [
    {
     "data": {
      "text/plain": [
       "array(['Alberni-Clayoquot', 'Nanaimo', 'Comox Valley',\n",
       "       'Kootenay Boundary', 'Capital', 'North Okanagan',\n",
       "       'Cowichan Valley', 'Greater Vancouver', 'Central Okanagan',\n",
       "       'Cariboo', 'East Kootenay', 'Columbia-Shuswap', 'Central Kootenay',\n",
       "       'Strathcona', 'Other Sea to Sky - Sunshine Coast', 'North Coast',\n",
       "       'Whistler', 'Northern BC rural', 'Prince George',\n",
       "       'Okanagan-Similkameen', 'Thompson-Nicola', 'Fraser Valley'],\n",
       "      dtype=object)"
      ]
     },
     "execution_count": 9,
     "metadata": {},
     "output_type": "execute_result"
    }
   ],
   "source": [
    "df[df['Destination Province'] == 'British Columbia']['Destination Tourism Region'].unique()"
   ]
  },
  {
   "cell_type": "markdown",
   "id": "c0c046c0-8a68-4b94-ad66-97c422a12eec",
   "metadata": {},
   "source": [
    "**Destination regions need translation**"
   ]
  },
  {
   "cell_type": "code",
   "execution_count": 27,
   "id": "02cc81fe",
   "metadata": {
    "vscode": {
     "languageId": "python"
    }
   },
   "outputs": [],
   "source": [
    "provinces = {\n",
    "'Cariboo' : 'CCC',\n",
    "'Capital': 'TVI',\n",
    "'Alberni-Clayoquot': 'TVI',\n",
    "'Nanaimo': 'TVI',\n",
    "'Cowichan Valley': 'TVI',\n",
    "'Comox Valley': 'TVI',\n",
    "'Strathcona': 'TVI',\n",
    "'Thompson-Nicola': 'TOTA',\n",
    "'Central Okanagan': 'TOTA',\n",
    "'North Okanagan': 'TOTA',\n",
    "'Okanagan-Similkameen': 'TOTA',\n",
    "'Kootenay Boundary': 'TOTA',\n",
    "'Columbia-Shuswap':'KRT',\n",
    "'Central Kootenay':'KRT',\n",
    "'East Kootenay':'KRT',\n",
    "'Northern BC rural':'NBC',\n",
    "'Prince George':'NBC',\n",
    "'North Coast':'NBC',\n",
    "'Greater Vancouver':'VCM', #These are by eye, not confirmed\n",
    "'Other Sea to Sky - Sunshine Coast': 'VCM',\n",
    "'Whistler':'VCM',\n",
    "'Fraser Valley': 'VCM'\n",
    "}"
   ]
  },
  {
   "cell_type": "code",
   "execution_count": 28,
   "id": "5a044e2b",
   "metadata": {
    "vscode": {
     "languageId": "python"
    }
   },
   "outputs": [
    {
     "data": {
      "text/plain": [
       "array(['TVI', 'TOTA', 'VCM', 'CCC', 'KRT', 'NBC'], dtype=object)"
      ]
     },
     "execution_count": 28,
     "metadata": {},
     "output_type": "execute_result"
    }
   ],
   "source": [
    "df['Destination Region'] = df['Destination Tourism Region'].replace(provinces)\n",
    "df[df['Destination Province'] == 'British Columbia']['Destination Region'].unique()"
   ]
  },
  {
   "cell_type": "markdown",
   "id": "37dc8fb2",
   "metadata": {},
   "source": []
  },
  {
   "cell_type": "markdown",
   "id": "ea8fdbd7-b20c-4571-81d6-f08c61a73780",
   "metadata": {},
   "source": [
    "## Check spending data\n",
    "\n",
    "Group spending data to check results and ideas for visualizations"
   ]
  },
  {
   "cell_type": "code",
   "execution_count": 31,
   "id": "58397e12",
   "metadata": {
    "vscode": {
     "languageId": "python"
    }
   },
   "outputs": [
    {
     "data": {
      "text/html": [
       "<div>\n",
       "<style scoped>\n",
       "    .dataframe tbody tr th:only-of-type {\n",
       "        vertical-align: middle;\n",
       "    }\n",
       "\n",
       "    .dataframe tbody tr th {\n",
       "        vertical-align: top;\n",
       "    }\n",
       "\n",
       "    .dataframe thead th {\n",
       "        text-align: right;\n",
       "    }\n",
       "</style>\n",
       "<table border=\"1\" class=\"dataframe\">\n",
       "  <thead>\n",
       "    <tr style=\"text-align: right;\">\n",
       "      <th></th>\n",
       "      <th>Origin</th>\n",
       "      <th>Year</th>\n",
       "      <th>Spend</th>\n",
       "    </tr>\n",
       "  </thead>\n",
       "  <tbody>\n",
       "    <tr>\n",
       "      <th>0</th>\n",
       "      <td>Domestic</td>\n",
       "      <td>2018</td>\n",
       "      <td>1.018748e+10</td>\n",
       "    </tr>\n",
       "    <tr>\n",
       "      <th>1</th>\n",
       "      <td>Domestic</td>\n",
       "      <td>2019</td>\n",
       "      <td>1.015109e+10</td>\n",
       "    </tr>\n",
       "    <tr>\n",
       "      <th>2</th>\n",
       "      <td>Domestic</td>\n",
       "      <td>2020</td>\n",
       "      <td>6.830266e+09</td>\n",
       "    </tr>\n",
       "    <tr>\n",
       "      <th>3</th>\n",
       "      <td>Domestic</td>\n",
       "      <td>2021</td>\n",
       "      <td>8.630381e+09</td>\n",
       "    </tr>\n",
       "    <tr>\n",
       "      <th>4</th>\n",
       "      <td>International</td>\n",
       "      <td>2018</td>\n",
       "      <td>6.608703e+09</td>\n",
       "    </tr>\n",
       "    <tr>\n",
       "      <th>5</th>\n",
       "      <td>International</td>\n",
       "      <td>2019</td>\n",
       "      <td>6.754094e+09</td>\n",
       "    </tr>\n",
       "    <tr>\n",
       "      <th>6</th>\n",
       "      <td>International</td>\n",
       "      <td>2020</td>\n",
       "      <td>1.722636e+09</td>\n",
       "    </tr>\n",
       "    <tr>\n",
       "      <th>7</th>\n",
       "      <td>International</td>\n",
       "      <td>2021</td>\n",
       "      <td>2.546361e+09</td>\n",
       "    </tr>\n",
       "  </tbody>\n",
       "</table>\n",
       "</div>"
      ],
      "text/plain": [
       "          Origin  Year         Spend\n",
       "0       Domestic  2018  1.018748e+10\n",
       "1       Domestic  2019  1.015109e+10\n",
       "2       Domestic  2020  6.830266e+09\n",
       "3       Domestic  2021  8.630381e+09\n",
       "4  International  2018  6.608703e+09\n",
       "5  International  2019  6.754094e+09\n",
       "6  International  2020  1.722636e+09\n",
       "7  International  2021  2.546361e+09"
      ]
     },
     "execution_count": 31,
     "metadata": {},
     "output_type": "execute_result"
    }
   ],
   "source": [
    "\n",
    "df['Origin'] = np.where(df['Origin Country'] == 'Canada', 'Domestic', 'International')\n",
    "\n",
    "\n",
    "df[df['Destination Province'] == 'British Columbia'].groupby(['Origin', 'Year'])['Spend'].sum().reset_index()\n"
   ]
  },
  {
   "cell_type": "markdown",
   "id": "27f21ef8-1799-4c3e-9912-2ef02fc9b54e",
   "metadata": {},
   "source": [
    "#### Uniqueness of dates"
   ]
  },
  {
   "cell_type": "code",
   "execution_count": 13,
   "id": "b9069154-2bef-49de-8916-6f1c76cd204d",
   "metadata": {
    "vscode": {
     "languageId": "python"
    }
   },
   "outputs": [
    {
     "data": {
      "text/plain": [
       "Date        Benchmark  \n",
       "2018-01-01  Final          18415\n",
       "2018-02-01  Final          18415\n",
       "2018-03-01  Final          18415\n",
       "2018-04-01  Final          18454\n",
       "2018-05-01  Final          18454\n",
       "                           ...  \n",
       "2021-09-01  Historic        7957\n",
       "            Preliminary    10823\n",
       "2021-10-01  Historic       18679\n",
       "2021-11-01  Historic       18679\n",
       "2021-12-01  Historic       18679\n",
       "Name: Year, Length: 63, dtype: int64"
      ]
     },
     "execution_count": 13,
     "metadata": {},
     "output_type": "execute_result"
    }
   ],
   "source": [
    "df[df['Destination Province'] == 'British Columbia'].groupby(['Date', 'Benchmark'])['Year'].count()"
   ]
  },
  {
   "cell_type": "code",
   "execution_count": 13,
   "id": "858d10b4-a62d-4ff8-b498-3e2f713c222d",
   "metadata": {
    "vscode": {
     "languageId": "python"
    }
   },
   "outputs": [
    {
     "data": {
      "text/plain": [
       "array(['2021-01-01', '2021-02-01', '2021-03-01', '2021-04-01',\n",
       "       '2021-05-01', '2021-06-01', '2021-07-01', '2021-08-01',\n",
       "       '2021-09-01', '2021-10-01', '2021-11-01', '2021-12-01'],\n",
       "      dtype=object)"
      ]
     },
     "execution_count": 13,
     "metadata": {},
     "output_type": "execute_result"
    }
   ],
   "source": [
    "origin='United States'\n",
    "year=2021\n",
    "\n",
    "df_plt = df[(df['Destination Province'] == 'British Columbia') & (df['Year'] == year) & (df['Origin Country'] == origin)].\\\n",
    "groupby(['Origin Country', 'Date', 'ITS Spend Category Name'])['Spend'].sum().reset_index()\n",
    "df_plt['Month'] = df_plt['Date'].apply(lambda x: int(x[5:7]))\n",
    "df_plt['Date'].unique()"
   ]
  },
  {
   "cell_type": "markdown",
   "id": "74e38a95",
   "metadata": {},
   "source": [
    "## Visualizations"
   ]
  },
  {
   "cell_type": "code",
   "execution_count": 15,
   "id": "09fe0c5d-c1e5-4355-8ecf-c0e3529d4628",
   "metadata": {
    "vscode": {
     "languageId": "python"
    }
   },
   "outputs": [
    {
     "data": {
      "image/png": "[encoded data removed]",
      "text/plain": [
       "<Figure size 1080x504 with 1 Axes>"
      ]
     },
     "metadata": {
      "needs_background": "light"
     },
     "output_type": "display_data"
    }
   ],
   "source": [
    "fig=plt.figure(figsize=(15,7))\n",
    "\n",
    "wd = 0.13\n",
    "pos = wd*-3\n",
    "#cat=df_plt['ITS Spend Category Name'].unique()\n",
    "cat = ['Accommodation', 'Food and Beverage','Transportation',\\\n",
    "       'Recreation and Entertainment', 'Clothes and Gifts', 'Others (Souvenirs, Shopping, Etc.)']\n",
    "\n",
    "\n",
    "for i in range(len(cat)):\n",
    "    df_ax = df_plt[df_plt['ITS Spend Category Name'] == cat[i]]\n",
    "    \n",
    "    plt.bar(df_ax['Month']+pos, df_ax['Spend'], wd)\n",
    "    pos = pos+wd\n",
    "    \n",
    "plt.xticks(range(1,13))\n",
    "plt.xlabel(\"Month\")\n",
    "plt.ylabel(\"Spending\")\n",
    "plt.legend(cat)\n",
    "plt.show()\n",
    "\n"
   ]
  },
  {
   "cell_type": "code",
   "execution_count": 24,
   "id": "8d359b83-53f8-4677-bed2-571125c4ee93",
   "metadata": {
    "vscode": {
     "languageId": "python"
    }
   },
   "outputs": [],
   "source": [
    "def plot_spending_item(df, origin, year):\n",
    "\n",
    "    df_plt = df[(df['Destination Province'] == 'British Columbia') & (df['Year'] == year) & (df['Origin Country'] == origin)].\\\n",
    "    groupby(['Origin Country', 'Date', 'ITS Spend Category Name'])['Spend'].sum().reset_index()\n",
    "    df_plt['Month'] = df_plt['Date'].apply(lambda x: int(x[5:7]))\n",
    "    \n",
    "    fig=plt.figure(figsize=(15,7))\n",
    "    \n",
    "    #max_val = df['Spend'].max()+(df['Spend'].max()*0.1)\n",
    "    max_val = 200000000\n",
    "    \n",
    "    wd = 0.13\n",
    "    pos = wd*-3\n",
    "    #cat=df_plt['ITS Spend Category Name'].unique()\n",
    "    cat = ['Accommodation', 'Food and Beverage','Transportation',\\\n",
    "           'Recreation and Entertainment', 'Clothes and Gifts', 'Others (Souvenirs, Shopping, Etc.)']\n",
    "    \n",
    "    \n",
    "    for i in range(len(cat)):\n",
    "        df_ax = df_plt[df_plt['ITS Spend Category Name'] == cat[i]]\n",
    "        \n",
    "        plt.bar(df_ax['Month']+pos, df_ax['Spend'], wd)\n",
    "        plt.ylim((0, max_val*1.1))\n",
    "        pos = pos+wd\n",
    "        \n",
    "    plt.xticks(range(1,13))\n",
    "    plt.xlabel(\"Month\")\n",
    "    plt.ylabel(\"Spending\")\n",
    "    plt.legend(cat)\n",
    "    plt.show()"
   ]
  },
  {
   "cell_type": "code",
   "execution_count": 25,
   "id": "238a648d-f3f4-42a1-a4fc-ba6c5576ad55",
   "metadata": {
    "vscode": {
     "languageId": "python"
    }
   },
   "outputs": [
    {
     "data": {
      "image/png": "[encoded data removed]",
      "text/plain": [
       "<Figure size 1080x504 with 1 Axes>"
      ]
     },
     "metadata": {
      "needs_background": "light"
     },
     "output_type": "display_data"
    }
   ],
   "source": [
    "origin='United States'\n",
    "year=2018\n",
    "plot_spending_item(df, origin, year)"
   ]
  },
  {
   "cell_type": "code",
   "execution_count": 18,
   "id": "c6bf57f4-9ec4-4754-a770-b901fa09bebf",
   "metadata": {
    "vscode": {
     "languageId": "python"
    }
   },
   "outputs": [
    {
     "data": {
      "image/png": "[encoded data removed]",
      "text/plain": [
       "<Figure size 1080x504 with 1 Axes>"
      ]
     },
     "metadata": {
      "needs_background": "light"
     },
     "output_type": "display_data"
    }
   ],
   "source": [
    "origin='United States'\n",
    "year=2020\n",
    "plot_spending_item(df, origin, year)"
   ]
  },
  {
   "cell_type": "code",
   "execution_count": 33,
   "id": "783ed0c9-e0bc-4f44-aaf2-ea85ba441a95",
   "metadata": {
    "vscode": {
     "languageId": "python"
    }
   },
   "outputs": [
    {
     "data": {
      "text/plain": [
       "Origin Country\n",
       "Canada            1.015109e+10\n",
       "United States     3.031128e+09\n",
       "Rest of World     1.126293e+09\n",
       "China             7.487100e+08\n",
       "United Kingdom    4.506440e+08\n",
       "Australia         3.761490e+08\n",
       "Germany           2.458820e+08\n",
       "Mexico            2.335320e+08\n",
       "Japan             2.095980e+08\n",
       "South Korean      1.917080e+08\n",
       "France            8.739500e+07\n",
       "India             5.305500e+07\n",
       "Name: Spend, dtype: float64"
      ]
     },
     "execution_count": 33,
     "metadata": {},
     "output_type": "execute_result"
    }
   ],
   "source": [
    "df[(df['Destination Province'] == 'British Columbia') & (df['Year'] == 2019)].groupby('Origin Country')['Spend'].sum().sort_values(ascending=False)"
   ]
  },
  {
   "cell_type": "code",
   "execution_count": 70,
   "id": "c5d49371-394e-424d-80e0-ba76aede7580",
   "metadata": {
    "vscode": {
     "languageId": "python"
    }
   },
   "outputs": [],
   "source": [
    "def plot_spending_country(df, year, domestic=False):\n",
    "    \n",
    "    group_origin = {'Mexico':'Rest of World', 'Japan':'Rest of World',\n",
    "                    'South Korean':'Rest of World', 'France':'Rest of World', 'India':'Rest of World'}\n",
    "\n",
    "    df_plt = df[(df['Destination Province'] == 'British Columbia') & (df['Year'] == year)].\\\n",
    "    groupby(['Origin Country', 'Date'])['Spend'].sum().reset_index()\n",
    "    df_plt['Month'] = df_plt['Date'].apply(lambda x: int(x[5:7]))\n",
    "    \n",
    "    df_plt['Origin Country'].replace(group_origin, inplace = True)                \n",
    "    \n",
    "    if domestic:\n",
    "        df_plt = df_plt[df_plt['Origin Country'] == 'Canada']\n",
    "        max_val = 2000000000\n",
    "        wd = 0.5\n",
    "        pos = 0\n",
    "    else:\n",
    "        df_plt = df_plt[df_plt['Origin Country'] != 'Canada']\n",
    "        max_val = 450000000\n",
    "        wd = 0.1\n",
    "        pos = wd*-3\n",
    "    \n",
    "    cat=df_plt['Origin Country'].unique()\n",
    "\n",
    "    \n",
    "    fig=plt.figure(figsize=(15,7))\n",
    "    \n",
    "    for i in range(len(cat)):\n",
    "        df_ax = df_plt[df_plt['Origin Country'] == cat[i]]\n",
    "        \n",
    "        plt.bar(df_ax['Month']+pos, df_ax['Spend'], wd)\n",
    "        plt.ylim((0, max_val*1.1))\n",
    "        pos = pos+wd\n",
    "        \n",
    "    plt.xticks(range(1,13))\n",
    "    plt.xlabel(\"Month\")\n",
    "    plt.ylabel(\"Spending\")\n",
    "    plt.legend(cat)\n",
    "    plt.show()"
   ]
  },
  {
   "cell_type": "code",
   "execution_count": 71,
   "id": "3e554ae1-2e18-4b6a-819c-5916174b2ae1",
   "metadata": {
    "vscode": {
     "languageId": "python"
    }
   },
   "outputs": [
    {
     "data": {
      "image/png": "[encoded data removed]",
      "text/plain": [
       "<Figure size 1080x504 with 1 Axes>"
      ]
     },
     "metadata": {
      "needs_background": "light"
     },
     "output_type": "display_data"
    }
   ],
   "source": [
    "year=2019\n",
    "domestic = False\n",
    "plot_spending_country(df, year, domestic)"
   ]
  },
  {
   "cell_type": "code",
   "execution_count": 72,
   "id": "20141199-4320-4382-aa87-0882a1c53a93",
   "metadata": {
    "vscode": {
     "languageId": "python"
    }
   },
   "outputs": [
    {
     "data": {
      "image/png": "[encoded data removed]",
      "text/plain": [
       "<Figure size 1080x504 with 1 Axes>"
      ]
     },
     "metadata": {
      "needs_background": "light"
     },
     "output_type": "display_data"
    }
   ],
   "source": [
    "year=2019\n",
    "domestic = True\n",
    "plot_spending_country(df, year, domestic)"
   ]
  },
  {
   "cell_type": "markdown",
   "id": "ae0432c5-ca59-4dac-876f-cea2449d0872",
   "metadata": {},
   "source": [
    "For BC: BC + all the lines of the destination regions  \n",
    "In the regions: line for the region + all of BC"
   ]
  },
  {
   "cell_type": "code",
   "execution_count": 83,
   "id": "7cb5ced3-28a0-48a7-9ff5-9b31d739c930",
   "metadata": {
    "vscode": {
     "languageId": "python"
    }
   },
   "outputs": [
    {
     "data": {
      "text/html": [
       "<div>\n",
       "<style scoped>\n",
       "    .dataframe tbody tr th:only-of-type {\n",
       "        vertical-align: middle;\n",
       "    }\n",
       "\n",
       "    .dataframe tbody tr th {\n",
       "        vertical-align: top;\n",
       "    }\n",
       "\n",
       "    .dataframe thead th {\n",
       "        text-align: right;\n",
       "    }\n",
       "</style>\n",
       "<table border=\"1\" class=\"dataframe\">\n",
       "  <thead>\n",
       "    <tr style=\"text-align: right;\">\n",
       "      <th></th>\n",
       "      <th></th>\n",
       "      <th>Spend</th>\n",
       "    </tr>\n",
       "    <tr>\n",
       "      <th>Origin Country</th>\n",
       "      <th>ITS Spend Category Name</th>\n",
       "      <th></th>\n",
       "    </tr>\n",
       "  </thead>\n",
       "  <tbody>\n",
       "    <tr>\n",
       "      <th rowspan=\"5\" valign=\"top\">Australia</th>\n",
       "      <th>Accommodation</th>\n",
       "      <td>1.468640e+08</td>\n",
       "    </tr>\n",
       "    <tr>\n",
       "      <th>Clothes and Gifts</th>\n",
       "      <td>3.153500e+07</td>\n",
       "    </tr>\n",
       "    <tr>\n",
       "      <th>Food and Beverage</th>\n",
       "      <td>9.421200e+07</td>\n",
       "    </tr>\n",
       "    <tr>\n",
       "      <th>Others (Souvenirs, Shopping, Etc.)</th>\n",
       "      <td>4.197000e+06</td>\n",
       "    </tr>\n",
       "    <tr>\n",
       "      <th>Recreation and Entertainment</th>\n",
       "      <td>6.127400e+07</td>\n",
       "    </tr>\n",
       "    <tr>\n",
       "      <th>...</th>\n",
       "      <th>...</th>\n",
       "      <td>...</td>\n",
       "    </tr>\n",
       "    <tr>\n",
       "      <th rowspan=\"5\" valign=\"top\">United States</th>\n",
       "      <th>Clothes and Gifts</th>\n",
       "      <td>1.845690e+08</td>\n",
       "    </tr>\n",
       "    <tr>\n",
       "      <th>Food and Beverage</th>\n",
       "      <td>8.187620e+08</td>\n",
       "    </tr>\n",
       "    <tr>\n",
       "      <th>Others (Souvenirs, Shopping, Etc.)</th>\n",
       "      <td>7.158000e+07</td>\n",
       "    </tr>\n",
       "    <tr>\n",
       "      <th>Recreation and Entertainment</th>\n",
       "      <td>2.904220e+08</td>\n",
       "    </tr>\n",
       "    <tr>\n",
       "      <th>Transportation</th>\n",
       "      <td>4.212890e+08</td>\n",
       "    </tr>\n",
       "  </tbody>\n",
       "</table>\n",
       "<p>72 rows × 1 columns</p>\n",
       "</div>"
      ],
      "text/plain": [
       "                                                          Spend\n",
       "Origin Country ITS Spend Category Name                         \n",
       "Australia      Accommodation                       1.468640e+08\n",
       "               Clothes and Gifts                   3.153500e+07\n",
       "               Food and Beverage                   9.421200e+07\n",
       "               Others (Souvenirs, Shopping, Etc.)  4.197000e+06\n",
       "               Recreation and Entertainment        6.127400e+07\n",
       "...                                                         ...\n",
       "United States  Clothes and Gifts                   1.845690e+08\n",
       "               Food and Beverage                   8.187620e+08\n",
       "               Others (Souvenirs, Shopping, Etc.)  7.158000e+07\n",
       "               Recreation and Entertainment        2.904220e+08\n",
       "               Transportation                      4.212890e+08\n",
       "\n",
       "[72 rows x 1 columns]"
      ]
     },
     "execution_count": 83,
     "metadata": {},
     "output_type": "execute_result"
    }
   ],
   "source": [
    "test_spend = df[(df['Destination Province'] == 'British Columbia') & (df['Year'] == 2019)].\\\n",
    "    groupby(['Origin Country', 'ITS Spend Category Name'])['Spend'].sum().to_frame()\n",
    "test_spend"
   ]
  },
  {
   "cell_type": "markdown",
   "id": "8247b3e6",
   "metadata": {},
   "source": [
    "## PLOT 1: Total spend by estination region"
   ]
  },
  {
   "cell_type": "code",
   "execution_count": 32,
   "id": "d9ef417a-4120-44fc-89e1-88f655ddd998",
   "metadata": {
    "vscode": {
     "languageId": "python"
    }
   },
   "outputs": [
    {
     "data": {
      "text/html": [
       "<div>\n",
       "<style scoped>\n",
       "    .dataframe tbody tr th:only-of-type {\n",
       "        vertical-align: middle;\n",
       "    }\n",
       "\n",
       "    .dataframe tbody tr th {\n",
       "        vertical-align: top;\n",
       "    }\n",
       "\n",
       "    .dataframe thead th {\n",
       "        text-align: right;\n",
       "    }\n",
       "</style>\n",
       "<table border=\"1\" class=\"dataframe\">\n",
       "  <thead>\n",
       "    <tr style=\"text-align: right;\">\n",
       "      <th></th>\n",
       "      <th>Origin</th>\n",
       "      <th>Destination Region</th>\n",
       "      <th>Year</th>\n",
       "      <th>Date</th>\n",
       "      <th>Spend</th>\n",
       "    </tr>\n",
       "  </thead>\n",
       "  <tbody>\n",
       "    <tr>\n",
       "      <th>0</th>\n",
       "      <td>Domestic</td>\n",
       "      <td>CCC</td>\n",
       "      <td>2018</td>\n",
       "      <td>2018-01-01</td>\n",
       "      <td>2.184772e+06</td>\n",
       "    </tr>\n",
       "    <tr>\n",
       "      <th>1</th>\n",
       "      <td>Domestic</td>\n",
       "      <td>CCC</td>\n",
       "      <td>2018</td>\n",
       "      <td>2018-02-01</td>\n",
       "      <td>2.165907e+06</td>\n",
       "    </tr>\n",
       "    <tr>\n",
       "      <th>2</th>\n",
       "      <td>Domestic</td>\n",
       "      <td>CCC</td>\n",
       "      <td>2018</td>\n",
       "      <td>2018-03-01</td>\n",
       "      <td>2.752986e+06</td>\n",
       "    </tr>\n",
       "    <tr>\n",
       "      <th>3</th>\n",
       "      <td>Domestic</td>\n",
       "      <td>CCC</td>\n",
       "      <td>2018</td>\n",
       "      <td>2018-04-01</td>\n",
       "      <td>3.183360e+06</td>\n",
       "    </tr>\n",
       "    <tr>\n",
       "      <th>4</th>\n",
       "      <td>Domestic</td>\n",
       "      <td>CCC</td>\n",
       "      <td>2018</td>\n",
       "      <td>2018-05-01</td>\n",
       "      <td>3.873401e+06</td>\n",
       "    </tr>\n",
       "    <tr>\n",
       "      <th>5</th>\n",
       "      <td>Domestic</td>\n",
       "      <td>CCC</td>\n",
       "      <td>2018</td>\n",
       "      <td>2018-06-01</td>\n",
       "      <td>4.007645e+06</td>\n",
       "    </tr>\n",
       "    <tr>\n",
       "      <th>6</th>\n",
       "      <td>Domestic</td>\n",
       "      <td>CCC</td>\n",
       "      <td>2018</td>\n",
       "      <td>2018-07-01</td>\n",
       "      <td>8.069555e+06</td>\n",
       "    </tr>\n",
       "    <tr>\n",
       "      <th>7</th>\n",
       "      <td>Domestic</td>\n",
       "      <td>CCC</td>\n",
       "      <td>2018</td>\n",
       "      <td>2018-08-01</td>\n",
       "      <td>8.549513e+06</td>\n",
       "    </tr>\n",
       "  </tbody>\n",
       "</table>\n",
       "</div>"
      ],
      "text/plain": [
       "     Origin Destination Region  Year        Date         Spend\n",
       "0  Domestic                CCC  2018  2018-01-01  2.184772e+06\n",
       "1  Domestic                CCC  2018  2018-02-01  2.165907e+06\n",
       "2  Domestic                CCC  2018  2018-03-01  2.752986e+06\n",
       "3  Domestic                CCC  2018  2018-04-01  3.183360e+06\n",
       "4  Domestic                CCC  2018  2018-05-01  3.873401e+06\n",
       "5  Domestic                CCC  2018  2018-06-01  4.007645e+06\n",
       "6  Domestic                CCC  2018  2018-07-01  8.069555e+06\n",
       "7  Domestic                CCC  2018  2018-08-01  8.549513e+06"
      ]
     },
     "execution_count": 32,
     "metadata": {},
     "output_type": "execute_result"
    }
   ],
   "source": [
    "total_prov = df[df['Destination Province'] == 'British Columbia'].groupby(['Origin','Destination Region', 'Year', 'Date'])['Spend'].sum().reset_index()\n",
    "#total_prov['Destination'] = total_prov['Destination Region']\n",
    "#total_prov.drop(columns=['Destination Tourism Region'], inplace = True)\n",
    "total_prov.head(8)"
   ]
  },
  {
   "cell_type": "code",
   "execution_count": 33,
   "id": "b0b4a4a0",
   "metadata": {
    "vscode": {
     "languageId": "python"
    }
   },
   "outputs": [
    {
     "data": {
      "text/html": [
       "<div>\n",
       "<style scoped>\n",
       "    .dataframe tbody tr th:only-of-type {\n",
       "        vertical-align: middle;\n",
       "    }\n",
       "\n",
       "    .dataframe tbody tr th {\n",
       "        vertical-align: top;\n",
       "    }\n",
       "\n",
       "    .dataframe thead th {\n",
       "        text-align: right;\n",
       "    }\n",
       "</style>\n",
       "<table border=\"1\" class=\"dataframe\">\n",
       "  <thead>\n",
       "    <tr style=\"text-align: right;\">\n",
       "      <th></th>\n",
       "      <th>Origin</th>\n",
       "      <th>Year</th>\n",
       "      <th>Date</th>\n",
       "      <th>Spend</th>\n",
       "      <th>Destination Region</th>\n",
       "    </tr>\n",
       "  </thead>\n",
       "  <tbody>\n",
       "    <tr>\n",
       "      <th>0</th>\n",
       "      <td>Domestic</td>\n",
       "      <td>2018</td>\n",
       "      <td>2018-01-01</td>\n",
       "      <td>5.949752e+08</td>\n",
       "      <td>All British Columbia</td>\n",
       "    </tr>\n",
       "    <tr>\n",
       "      <th>1</th>\n",
       "      <td>Domestic</td>\n",
       "      <td>2018</td>\n",
       "      <td>2018-02-01</td>\n",
       "      <td>6.003534e+08</td>\n",
       "      <td>All British Columbia</td>\n",
       "    </tr>\n",
       "    <tr>\n",
       "      <th>2</th>\n",
       "      <td>Domestic</td>\n",
       "      <td>2018</td>\n",
       "      <td>2018-03-01</td>\n",
       "      <td>7.567044e+08</td>\n",
       "      <td>All British Columbia</td>\n",
       "    </tr>\n",
       "    <tr>\n",
       "      <th>3</th>\n",
       "      <td>Domestic</td>\n",
       "      <td>2018</td>\n",
       "      <td>2018-04-01</td>\n",
       "      <td>6.619309e+08</td>\n",
       "      <td>All British Columbia</td>\n",
       "    </tr>\n",
       "    <tr>\n",
       "      <th>4</th>\n",
       "      <td>Domestic</td>\n",
       "      <td>2018</td>\n",
       "      <td>2018-05-01</td>\n",
       "      <td>8.114002e+08</td>\n",
       "      <td>All British Columbia</td>\n",
       "    </tr>\n",
       "    <tr>\n",
       "      <th>5</th>\n",
       "      <td>Domestic</td>\n",
       "      <td>2018</td>\n",
       "      <td>2018-06-01</td>\n",
       "      <td>8.550119e+08</td>\n",
       "      <td>All British Columbia</td>\n",
       "    </tr>\n",
       "    <tr>\n",
       "      <th>6</th>\n",
       "      <td>Domestic</td>\n",
       "      <td>2018</td>\n",
       "      <td>2018-07-01</td>\n",
       "      <td>1.436786e+09</td>\n",
       "      <td>All British Columbia</td>\n",
       "    </tr>\n",
       "    <tr>\n",
       "      <th>7</th>\n",
       "      <td>Domestic</td>\n",
       "      <td>2018</td>\n",
       "      <td>2018-08-01</td>\n",
       "      <td>1.530559e+09</td>\n",
       "      <td>All British Columbia</td>\n",
       "    </tr>\n",
       "  </tbody>\n",
       "</table>\n",
       "</div>"
      ],
      "text/plain": [
       "     Origin  Year        Date         Spend    Destination Region\n",
       "0  Domestic  2018  2018-01-01  5.949752e+08  All British Columbia\n",
       "1  Domestic  2018  2018-02-01  6.003534e+08  All British Columbia\n",
       "2  Domestic  2018  2018-03-01  7.567044e+08  All British Columbia\n",
       "3  Domestic  2018  2018-04-01  6.619309e+08  All British Columbia\n",
       "4  Domestic  2018  2018-05-01  8.114002e+08  All British Columbia\n",
       "5  Domestic  2018  2018-06-01  8.550119e+08  All British Columbia\n",
       "6  Domestic  2018  2018-07-01  1.436786e+09  All British Columbia\n",
       "7  Domestic  2018  2018-08-01  1.530559e+09  All British Columbia"
      ]
     },
     "execution_count": 33,
     "metadata": {},
     "output_type": "execute_result"
    }
   ],
   "source": [
    "total_bc = df[df['Destination Province'] == 'British Columbia'].groupby(['Origin', 'Year','Date'])['Spend'].sum().reset_index()\n",
    "total_bc['Destination Region'] = 'All British Columbia'\n",
    "total_bc.head(8)"
   ]
  },
  {
   "cell_type": "code",
   "execution_count": 34,
   "id": "5878927b-394a-4fa2-861c-109be3d91965",
   "metadata": {
    "vscode": {
     "languageId": "python"
    }
   },
   "outputs": [
    {
     "data": {
      "text/html": [
       "<div>\n",
       "<style scoped>\n",
       "    .dataframe tbody tr th:only-of-type {\n",
       "        vertical-align: middle;\n",
       "    }\n",
       "\n",
       "    .dataframe tbody tr th {\n",
       "        vertical-align: top;\n",
       "    }\n",
       "\n",
       "    .dataframe thead th {\n",
       "        text-align: right;\n",
       "    }\n",
       "</style>\n",
       "<table border=\"1\" class=\"dataframe\">\n",
       "  <thead>\n",
       "    <tr style=\"text-align: right;\">\n",
       "      <th></th>\n",
       "      <th>Origin</th>\n",
       "      <th>Year</th>\n",
       "      <th>Date</th>\n",
       "      <th>Spend</th>\n",
       "      <th>Destination Region</th>\n",
       "    </tr>\n",
       "  </thead>\n",
       "  <tbody>\n",
       "    <tr>\n",
       "      <th>0</th>\n",
       "      <td>Domestic</td>\n",
       "      <td>2018</td>\n",
       "      <td>2018-01-01</td>\n",
       "      <td>5.949752e+08</td>\n",
       "      <td>All British Columbia</td>\n",
       "    </tr>\n",
       "    <tr>\n",
       "      <th>1</th>\n",
       "      <td>Domestic</td>\n",
       "      <td>2018</td>\n",
       "      <td>2018-02-01</td>\n",
       "      <td>6.003534e+08</td>\n",
       "      <td>All British Columbia</td>\n",
       "    </tr>\n",
       "    <tr>\n",
       "      <th>2</th>\n",
       "      <td>Domestic</td>\n",
       "      <td>2018</td>\n",
       "      <td>2018-03-01</td>\n",
       "      <td>7.567044e+08</td>\n",
       "      <td>All British Columbia</td>\n",
       "    </tr>\n",
       "    <tr>\n",
       "      <th>3</th>\n",
       "      <td>Domestic</td>\n",
       "      <td>2018</td>\n",
       "      <td>2018-04-01</td>\n",
       "      <td>6.619309e+08</td>\n",
       "      <td>All British Columbia</td>\n",
       "    </tr>\n",
       "    <tr>\n",
       "      <th>4</th>\n",
       "      <td>Domestic</td>\n",
       "      <td>2018</td>\n",
       "      <td>2018-05-01</td>\n",
       "      <td>8.114002e+08</td>\n",
       "      <td>All British Columbia</td>\n",
       "    </tr>\n",
       "    <tr>\n",
       "      <th>...</th>\n",
       "      <td>...</td>\n",
       "      <td>...</td>\n",
       "      <td>...</td>\n",
       "      <td>...</td>\n",
       "      <td>...</td>\n",
       "    </tr>\n",
       "    <tr>\n",
       "      <th>571</th>\n",
       "      <td>International</td>\n",
       "      <td>2021</td>\n",
       "      <td>2021-08-01</td>\n",
       "      <td>2.797901e+08</td>\n",
       "      <td>VCM</td>\n",
       "    </tr>\n",
       "    <tr>\n",
       "      <th>572</th>\n",
       "      <td>International</td>\n",
       "      <td>2021</td>\n",
       "      <td>2021-09-01</td>\n",
       "      <td>2.906260e+08</td>\n",
       "      <td>VCM</td>\n",
       "    </tr>\n",
       "    <tr>\n",
       "      <th>573</th>\n",
       "      <td>International</td>\n",
       "      <td>2021</td>\n",
       "      <td>2021-10-01</td>\n",
       "      <td>1.128416e+08</td>\n",
       "      <td>VCM</td>\n",
       "    </tr>\n",
       "    <tr>\n",
       "      <th>574</th>\n",
       "      <td>International</td>\n",
       "      <td>2021</td>\n",
       "      <td>2021-11-01</td>\n",
       "      <td>1.130371e+08</td>\n",
       "      <td>VCM</td>\n",
       "    </tr>\n",
       "    <tr>\n",
       "      <th>575</th>\n",
       "      <td>International</td>\n",
       "      <td>2021</td>\n",
       "      <td>2021-12-01</td>\n",
       "      <td>1.546692e+08</td>\n",
       "      <td>VCM</td>\n",
       "    </tr>\n",
       "  </tbody>\n",
       "</table>\n",
       "<p>672 rows × 5 columns</p>\n",
       "</div>"
      ],
      "text/plain": [
       "            Origin  Year        Date         Spend    Destination Region\n",
       "0         Domestic  2018  2018-01-01  5.949752e+08  All British Columbia\n",
       "1         Domestic  2018  2018-02-01  6.003534e+08  All British Columbia\n",
       "2         Domestic  2018  2018-03-01  7.567044e+08  All British Columbia\n",
       "3         Domestic  2018  2018-04-01  6.619309e+08  All British Columbia\n",
       "4         Domestic  2018  2018-05-01  8.114002e+08  All British Columbia\n",
       "..             ...   ...         ...           ...                   ...\n",
       "571  International  2021  2021-08-01  2.797901e+08                   VCM\n",
       "572  International  2021  2021-09-01  2.906260e+08                   VCM\n",
       "573  International  2021  2021-10-01  1.128416e+08                   VCM\n",
       "574  International  2021  2021-11-01  1.130371e+08                   VCM\n",
       "575  International  2021  2021-12-01  1.546692e+08                   VCM\n",
       "\n",
       "[672 rows x 5 columns]"
      ]
     },
     "execution_count": 34,
     "metadata": {},
     "output_type": "execute_result"
    }
   ],
   "source": [
    "total_combined = pd.concat([total_bc, total_prov])\n",
    "total_combined"
   ]
  },
  {
   "cell_type": "code",
   "execution_count": 35,
   "id": "cdf42cb2",
   "metadata": {
    "vscode": {
     "languageId": "python"
    }
   },
   "outputs": [
    {
     "data": {
      "text/html": [
       "<div>\n",
       "<style scoped>\n",
       "    .dataframe tbody tr th:only-of-type {\n",
       "        vertical-align: middle;\n",
       "    }\n",
       "\n",
       "    .dataframe tbody tr th {\n",
       "        vertical-align: top;\n",
       "    }\n",
       "\n",
       "    .dataframe thead th {\n",
       "        text-align: right;\n",
       "    }\n",
       "</style>\n",
       "<table border=\"1\" class=\"dataframe\">\n",
       "  <thead>\n",
       "    <tr style=\"text-align: right;\">\n",
       "      <th></th>\n",
       "      <th>Destination Region</th>\n",
       "      <th>Date</th>\n",
       "      <th>Spend</th>\n",
       "    </tr>\n",
       "  </thead>\n",
       "  <tbody>\n",
       "    <tr>\n",
       "      <th>0</th>\n",
       "      <td>All British Columbia</td>\n",
       "      <td>2019-01-01</td>\n",
       "      <td>9.644342e+08</td>\n",
       "    </tr>\n",
       "    <tr>\n",
       "      <th>1</th>\n",
       "      <td>All British Columbia</td>\n",
       "      <td>2019-02-01</td>\n",
       "      <td>9.045975e+08</td>\n",
       "    </tr>\n",
       "    <tr>\n",
       "      <th>2</th>\n",
       "      <td>All British Columbia</td>\n",
       "      <td>2019-03-01</td>\n",
       "      <td>1.046126e+09</td>\n",
       "    </tr>\n",
       "    <tr>\n",
       "      <th>3</th>\n",
       "      <td>All British Columbia</td>\n",
       "      <td>2019-04-01</td>\n",
       "      <td>1.186763e+09</td>\n",
       "    </tr>\n",
       "    <tr>\n",
       "      <th>4</th>\n",
       "      <td>All British Columbia</td>\n",
       "      <td>2019-05-01</td>\n",
       "      <td>1.440983e+09</td>\n",
       "    </tr>\n",
       "    <tr>\n",
       "      <th>...</th>\n",
       "      <td>...</td>\n",
       "      <td>...</td>\n",
       "      <td>...</td>\n",
       "    </tr>\n",
       "    <tr>\n",
       "      <th>79</th>\n",
       "      <td>VCM</td>\n",
       "      <td>2019-08-01</td>\n",
       "      <td>1.236702e+09</td>\n",
       "    </tr>\n",
       "    <tr>\n",
       "      <th>80</th>\n",
       "      <td>VCM</td>\n",
       "      <td>2019-09-01</td>\n",
       "      <td>9.383676e+08</td>\n",
       "    </tr>\n",
       "    <tr>\n",
       "      <th>81</th>\n",
       "      <td>VCM</td>\n",
       "      <td>2019-10-01</td>\n",
       "      <td>5.667737e+08</td>\n",
       "    </tr>\n",
       "    <tr>\n",
       "      <th>82</th>\n",
       "      <td>VCM</td>\n",
       "      <td>2019-11-01</td>\n",
       "      <td>4.634378e+08</td>\n",
       "    </tr>\n",
       "    <tr>\n",
       "      <th>83</th>\n",
       "      <td>VCM</td>\n",
       "      <td>2019-12-01</td>\n",
       "      <td>5.898331e+08</td>\n",
       "    </tr>\n",
       "  </tbody>\n",
       "</table>\n",
       "<p>84 rows × 3 columns</p>\n",
       "</div>"
      ],
      "text/plain": [
       "      Destination Region        Date         Spend\n",
       "0   All British Columbia  2019-01-01  9.644342e+08\n",
       "1   All British Columbia  2019-02-01  9.045975e+08\n",
       "2   All British Columbia  2019-03-01  1.046126e+09\n",
       "3   All British Columbia  2019-04-01  1.186763e+09\n",
       "4   All British Columbia  2019-05-01  1.440983e+09\n",
       "..                   ...         ...           ...\n",
       "79                   VCM  2019-08-01  1.236702e+09\n",
       "80                   VCM  2019-09-01  9.383676e+08\n",
       "81                   VCM  2019-10-01  5.667737e+08\n",
       "82                   VCM  2019-11-01  4.634378e+08\n",
       "83                   VCM  2019-12-01  5.898331e+08\n",
       "\n",
       "[84 rows x 3 columns]"
      ]
     },
     "execution_count": 35,
     "metadata": {},
     "output_type": "execute_result"
    }
   ],
   "source": [
    "year = 2019\n",
    "total_combined[(total_combined['Year'] == year)].groupby(['Destination Region', 'Date'],as_index=False)['Spend'].sum()"
   ]
  },
  {
   "cell_type": "code",
   "execution_count": 36,
   "id": "72d7cb9d-ccd0-4140-8fe8-5eeaab380808",
   "metadata": {
    "vscode": {
     "languageId": "python"
    }
   },
   "outputs": [],
   "source": [
    "def plot_spending_total(my_df, year):\n",
    "    \n",
    "\n",
    "\n",
    "    df_plt = my_df[(my_df['Year'] == year)].groupby(['Destination Region', 'Date'],as_index=False)['Spend'].sum()\n",
    "    df_plt['Month'] = df_plt['Date'].apply(lambda x: int(x[5:7]))\n",
    "\n",
    "    \n",
    "    cat=df_plt['Destination Region'].unique()\n",
    "\n",
    "    \n",
    "    fig=plt.figure(figsize=(15,7))\n",
    "    max_val = df_plt['Spend'].max()\n",
    "    \n",
    "    for i in range(len(cat)):\n",
    "        df_ax = df_plt[df_plt['Destination Region'] == cat[i]]\n",
    "        \n",
    "        \n",
    "        \n",
    "        plt.plot(df_ax['Month'], df_ax['Spend'])\n",
    "        plt.ylim((0, max_val*1.1))\n",
    "        \n",
    "    plt.xticks(range(1,13))\n",
    "    plt.xlabel(\"Month\")\n",
    "    plt.ylabel(\"Spending (in $ Billion)\")\n",
    "    plt.legend(cat)\n",
    "    plt.show()"
   ]
  },
  {
   "cell_type": "code",
   "execution_count": 37,
   "id": "df23d9b5",
   "metadata": {
    "vscode": {
     "languageId": "python"
    }
   },
   "outputs": [
    {
     "data": {
      "image/png": "[encoded data removed]",
      "text/plain": [
       "<Figure size 1080x504 with 1 Axes>"
      ]
     },
     "metadata": {
      "needs_background": "light"
     },
     "output_type": "display_data"
    }
   ],
   "source": [
    "year=2019\n",
    "plot_spending_total(total_combined, year)"
   ]
  },
  {
   "cell_type": "code",
   "execution_count": null,
   "id": "9d50c657",
   "metadata": {
    "vscode": {
     "languageId": "python"
    }
   },
   "outputs": [],
   "source": []
  },
  {
   "cell_type": "markdown",
   "id": "2ad1d659",
   "metadata": {},
   "source": [
    "## PLOT 2: Total Domestic vs International"
   ]
  },
  {
   "cell_type": "code",
   "execution_count": 55,
   "id": "7d184aab",
   "metadata": {
    "vscode": {
     "languageId": "python"
    }
   },
   "outputs": [
    {
     "data": {
      "text/html": [
       "<div>\n",
       "<style scoped>\n",
       "    .dataframe tbody tr th:only-of-type {\n",
       "        vertical-align: middle;\n",
       "    }\n",
       "\n",
       "    .dataframe tbody tr th {\n",
       "        vertical-align: top;\n",
       "    }\n",
       "\n",
       "    .dataframe thead th {\n",
       "        text-align: right;\n",
       "    }\n",
       "</style>\n",
       "<table border=\"1\" class=\"dataframe\">\n",
       "  <thead>\n",
       "    <tr style=\"text-align: right;\">\n",
       "      <th></th>\n",
       "      <th>Origin</th>\n",
       "      <th>Year</th>\n",
       "      <th>Date</th>\n",
       "      <th>Spend</th>\n",
       "      <th>Destination Region</th>\n",
       "    </tr>\n",
       "  </thead>\n",
       "  <tbody>\n",
       "    <tr>\n",
       "      <th>0</th>\n",
       "      <td>Domestic</td>\n",
       "      <td>2018</td>\n",
       "      <td>2018-01-01</td>\n",
       "      <td>5.949752e+08</td>\n",
       "      <td>All British Columbia</td>\n",
       "    </tr>\n",
       "    <tr>\n",
       "      <th>1</th>\n",
       "      <td>Domestic</td>\n",
       "      <td>2018</td>\n",
       "      <td>2018-02-01</td>\n",
       "      <td>6.003534e+08</td>\n",
       "      <td>All British Columbia</td>\n",
       "    </tr>\n",
       "    <tr>\n",
       "      <th>2</th>\n",
       "      <td>Domestic</td>\n",
       "      <td>2018</td>\n",
       "      <td>2018-03-01</td>\n",
       "      <td>7.567044e+08</td>\n",
       "      <td>All British Columbia</td>\n",
       "    </tr>\n",
       "    <tr>\n",
       "      <th>3</th>\n",
       "      <td>Domestic</td>\n",
       "      <td>2018</td>\n",
       "      <td>2018-04-01</td>\n",
       "      <td>6.619309e+08</td>\n",
       "      <td>All British Columbia</td>\n",
       "    </tr>\n",
       "    <tr>\n",
       "      <th>4</th>\n",
       "      <td>Domestic</td>\n",
       "      <td>2018</td>\n",
       "      <td>2018-05-01</td>\n",
       "      <td>8.114002e+08</td>\n",
       "      <td>All British Columbia</td>\n",
       "    </tr>\n",
       "  </tbody>\n",
       "</table>\n",
       "</div>"
      ],
      "text/plain": [
       "     Origin  Year        Date         Spend    Destination Region\n",
       "0  Domestic  2018  2018-01-01  5.949752e+08  All British Columbia\n",
       "1  Domestic  2018  2018-02-01  6.003534e+08  All British Columbia\n",
       "2  Domestic  2018  2018-03-01  7.567044e+08  All British Columbia\n",
       "3  Domestic  2018  2018-04-01  6.619309e+08  All British Columbia\n",
       "4  Domestic  2018  2018-05-01  8.114002e+08  All British Columbia"
      ]
     },
     "execution_count": 55,
     "metadata": {},
     "output_type": "execute_result"
    }
   ],
   "source": [
    "total_combined.head()"
   ]
  },
  {
   "cell_type": "code",
   "execution_count": 38,
   "id": "a0f788d3",
   "metadata": {
    "vscode": {
     "languageId": "python"
    }
   },
   "outputs": [],
   "source": [
    "def plot_spending_domestic_international(my_df, year, destination=\"All\"):\n",
    "    \n",
    "    if destination == 'All':\n",
    "        destination = 'All British Columbia'\n",
    "    df_plt = my_df[(my_df['Year'] == year) & (my_df['Destination Region'] == destination)] \n",
    "    df_plt['Month'] = df_plt['Date'].apply(lambda x: int(x[5:7]))               \n",
    "    \n",
    "    \n",
    "    cat=df_plt['Origin'].unique()\n",
    "\n",
    "    \n",
    "    fig=plt.figure(figsize=(15,7))\n",
    "    wd = 0.3\n",
    "    #pos = wd*-1\n",
    "    max_val = df_plt['Spend'].max()\n",
    "\n",
    "    df_ax = df_plt[df_plt['Origin'] == \"Domestic\"]\n",
    "    plt.bar(df_ax['Month']-wd/2, df_ax['Spend'], wd)\n",
    "    df_ax = df_plt[df_plt['Origin'] == \"International\"]\n",
    "    plt.bar(df_ax['Month']+wd/2, df_ax['Spend'], wd)\n",
    "\n",
    "    plt.ylim((0, max_val*1.1))\n",
    "        \n",
    "    plt.xticks(range(1,13))\n",
    "    plt.xlabel(\"Month\")\n",
    "    plt.ylabel(\"Spending (in $B)\")\n",
    "    plt.legend(cat)\n",
    "    plt.show()"
   ]
  },
  {
   "cell_type": "code",
   "execution_count": 39,
   "id": "81c10945",
   "metadata": {
    "vscode": {
     "languageId": "python"
    }
   },
   "outputs": [
    {
     "name": "stderr",
     "output_type": "stream",
     "text": [
      "/var/folders/wf/_wlxc6cn5js4hh3j7j6x28f80000gn/T/ipykernel_5030/4169191562.py:6: SettingWithCopyWarning: \n",
      "A value is trying to be set on a copy of a slice from a DataFrame.\n",
      "Try using .loc[row_indexer,col_indexer] = value instead\n",
      "\n",
      "See the caveats in the documentation: https://pandas.pydata.org/pandas-docs/stable/user_guide/indexing.html#returning-a-view-versus-a-copy\n",
      "  df_plt['Month'] = df_plt['Date'].apply(lambda x: int(x[5:7]))\n"
     ]
    },
    {
     "data": {
      "image/png": "[encoded data removed]",
      "text/plain": [
       "<Figure size 1080x504 with 1 Axes>"
      ]
     },
     "metadata": {
      "needs_background": "light"
     },
     "output_type": "display_data"
    }
   ],
   "source": [
    "year=2019\n",
    "plot_spending_domestic_international(total_combined, year)"
   ]
  },
  {
   "cell_type": "markdown",
   "id": "511061d9",
   "metadata": {},
   "source": [
    "## PLOT 3: Spending by market (domestic and international)"
   ]
  },
  {
   "cell_type": "code",
   "execution_count": 80,
   "id": "d1891ea1",
   "metadata": {
    "vscode": {
     "languageId": "python"
    }
   },
   "outputs": [
    {
     "data": {
      "text/plain": [
       "array(['Ontario', 'New Brunswick', 'Quebec', 'Manitoba', 'Nova Scotia',\n",
       "       'British Columbia', 'Prince Edward Island', 'Alberta',\n",
       "       'Saskatchewan', 'Newfoundland and Labrador', 'United States',\n",
       "       'France', 'Rest of World', 'India', 'United Kingdom', 'Japan',\n",
       "       'China', 'Australia', 'Germany', 'Mexico', 'South Korean'],\n",
       "      dtype=object)"
      ]
     },
     "execution_count": 80,
     "metadata": {},
     "output_type": "execute_result"
    }
   ],
   "source": [
    "df['Origin Country / Province'].unique()"
   ]
  },
  {
   "cell_type": "code",
   "execution_count": 40,
   "id": "c0589d3c",
   "metadata": {
    "vscode": {
     "languageId": "python"
    }
   },
   "outputs": [
    {
     "data": {
      "text/plain": [
       "Origin Country\n",
       "Canada            1.015109e+10\n",
       "United States     3.031128e+09\n",
       "Rest of World     1.126293e+09\n",
       "China             7.487100e+08\n",
       "United Kingdom    4.506440e+08\n",
       "Australia         3.761490e+08\n",
       "Germany           2.458820e+08\n",
       "Mexico            2.335320e+08\n",
       "Japan             2.095980e+08\n",
       "South Korean      1.917080e+08\n",
       "France            8.739500e+07\n",
       "India             5.305500e+07\n",
       "Name: Spend, dtype: float64"
      ]
     },
     "execution_count": 40,
     "metadata": {},
     "output_type": "execute_result"
    }
   ],
   "source": [
    "df[(df['Destination Province'] == 'British Columbia') & (df['Year'] == 2019)].groupby('Origin Country')['Spend'].sum().sort_values(ascending=False)"
   ]
  },
  {
   "cell_type": "code",
   "execution_count": 48,
   "id": "8c4f08be",
   "metadata": {
    "vscode": {
     "languageId": "python"
    }
   },
   "outputs": [
    {
     "data": {
      "text/plain": [
       "Origin Country / Province\n",
       "British Columbia             6.454647e+09\n",
       "Alberta                      1.759894e+09\n",
       "Ontario                      1.323109e+09\n",
       "Saskatchewan                 2.094620e+08\n",
       "Quebec                       1.745630e+08\n",
       "Manitoba                     1.283680e+08\n",
       "Nova Scotia                  4.247700e+07\n",
       "Newfoundland and Labrador    3.711700e+07\n",
       "New Brunswick                1.612200e+07\n",
       "Prince Edward Island         5.329000e+06\n",
       "Name: Spend, dtype: float64"
      ]
     },
     "execution_count": 48,
     "metadata": {},
     "output_type": "execute_result"
    }
   ],
   "source": [
    "df[(df['Destination Province'] == 'British Columbia') & (df['Year'] == 2019) & (df['Origin Country'] == 'Canada')].groupby('Origin Country / Province')['Spend'].sum().sort_values(ascending=False)"
   ]
  },
  {
   "cell_type": "code",
   "execution_count": 69,
   "id": "eaf690cd",
   "metadata": {
    "vscode": {
     "languageId": "python"
    }
   },
   "outputs": [],
   "source": [
    "def plot_spending_country(df, year, domestic=False):\n",
    "    \n",
    "    group_origin = {'South Korean':'Rest of World', 'France':'Rest of World', 'India':'Rest of World'}\n",
    "\n",
    "    \n",
    "\n",
    "    df_plt = df[(df['Destination Province'] == 'British Columbia') & (df['Year'] == year)]\n",
    "\n",
    "    \n",
    "    df_plt['Origin Country'].replace(group_origin, inplace = True)                \n",
    "    \n",
    "    if domestic:\n",
    "        df_plt = df_plt[df_plt['Origin Country'] == 'Canada']\n",
    "        df_plt = df_plt.groupby(['Origin Country / Province', 'Date'])['Spend'].sum().reset_index()\n",
    "        df_plt['Month'] = df_plt['Date'].apply(lambda x: int(x[5:7]))\n",
    "        max_val = 300000000\n",
    "        wd = 0.1\n",
    "        pos = wd*-5\n",
    "        #cat=df_plt['Origin Country / Province'].unique()\n",
    "        cat = ['Alberta','Ontario','Saskatchewan', 'Quebec','Manitoba', 'Nova Scotia','Newfoundland and Labrador','New Brunswick', 'Prince Edward Island']\n",
    "        \n",
    "        \n",
    "    else:\n",
    "        df_plt = df_plt[df_plt['Origin Country'] != 'Canada']\n",
    "        df_plt = df_plt.groupby(['Origin Country', 'Date'])['Spend'].sum().reset_index()\n",
    "        df_plt['Month'] = df_plt['Date'].apply(lambda x: int(x[5:7]))\n",
    "        max_val = 450000000\n",
    "        wd = 0.1\n",
    "        pos = wd*-3\n",
    "        #cat=df_plt['Origin Country'].unique()\n",
    "        cat = ['United States','China','United Kingdom','Australia', 'Germany','Mexico','Japan', 'Rest of World']\n",
    "\n",
    "    \n",
    "    \n",
    "\n",
    "    \n",
    "    fig=plt.figure(figsize=(15,7))\n",
    "    \n",
    "    for i in range(len(cat)):\n",
    "        if domestic:\n",
    "            df_ax = df_plt[df_plt['Origin Country / Province'] == cat[i]]\n",
    "        else:\n",
    "            df_ax = df_plt[df_plt['Origin Country'] == cat[i]]\n",
    "\n",
    "\n",
    "        \n",
    "        plt.bar(df_ax['Month']+pos, df_ax['Spend'], wd)\n",
    "        plt.ylim((0, max_val*1.1))\n",
    "        pos = pos+wd\n",
    "        \n",
    "    plt.xticks(range(1,13))\n",
    "    plt.xlabel(\"Month\")\n",
    "    plt.ylabel(\"Spending\")\n",
    "    if domestic:\n",
    "        plt.title('Spend by visitors from other domestic markets')\n",
    "    else:\n",
    "        plt.title('Spend by visitors from international markets')\n",
    "    plt.legend(cat)\n",
    "    plt.show()"
   ]
  },
  {
   "cell_type": "code",
   "execution_count": 70,
   "id": "09b6c4df",
   "metadata": {
    "vscode": {
     "languageId": "python"
    }
   },
   "outputs": [
    {
     "name": "stderr",
     "output_type": "stream",
     "text": [
      "/Users/angel/opt/anaconda3/envs/py39/lib/python3.9/site-packages/pandas/core/generic.py:6619: SettingWithCopyWarning: \n",
      "A value is trying to be set on a copy of a slice from a DataFrame\n",
      "\n",
      "See the caveats in the documentation: https://pandas.pydata.org/pandas-docs/stable/user_guide/indexing.html#returning-a-view-versus-a-copy\n",
      "  return self._update_inplace(result)\n"
     ]
    },
    {
     "data": {
      "image/png": "[encoded data removed]",
      "text/plain": [
       "<Figure size 1080x504 with 1 Axes>"
      ]
     },
     "metadata": {
      "needs_background": "light"
     },
     "output_type": "display_data"
    }
   ],
   "source": [
    "year = 2019\n",
    "plot_spending_country(df, year, domestic=False)"
   ]
  },
  {
   "cell_type": "code",
   "execution_count": 71,
   "id": "90a77e66",
   "metadata": {
    "vscode": {
     "languageId": "python"
    }
   },
   "outputs": [
    {
     "data": {
      "image/png": "[encoded data removed]",
      "text/plain": [
       "<Figure size 1080x504 with 1 Axes>"
      ]
     },
     "metadata": {
      "needs_background": "light"
     },
     "output_type": "display_data"
    }
   ],
   "source": [
    "year = 2019\n",
    "plot_spending_country(df, year, domestic=True)"
   ]
  },
  {
   "cell_type": "code",
   "execution_count": 72,
   "id": "cb74fa8e",
   "metadata": {
    "vscode": {
     "languageId": "python"
    }
   },
   "outputs": [
    {
     "data": {
      "image/png": "[encoded data removed]",
      "text/plain": [
       "<Figure size 1080x504 with 1 Axes>"
      ]
     },
     "metadata": {
      "needs_background": "light"
     },
     "output_type": "display_data"
    }
   ],
   "source": [
    "year = 2019\n",
    "df_plt = df[(df['Destination Province'] == 'British Columbia') & (df['Year'] == year)]\n",
    "df_plt = df_plt[df_plt['Origin Country / Province'] == 'British Columbia']\n",
    "df_plt = df_plt.groupby(['Origin Country / Province', 'Date'])['Spend'].sum().reset_index()\n",
    "df_plt['Month'] = df_plt['Date'].apply(lambda x: int(x[5:7]))\n",
    "max_val = 1000000000\n",
    "\n",
    "fig=plt.figure(figsize=(15,7))\n",
    "\n",
    "plt.bar(df_plt['Month'], df_plt['Spend'], 0.5)\n",
    "plt.ylim((0, max_val*1.1))        \n",
    "plt.xticks(range(1,13))\n",
    "plt.xlabel(\"Month\")\n",
    "plt.ylabel(\"Spending\")\n",
    "plt.title('Spend by visitors from British Columbia')\n",
    "#plt.legend(cat)\n",
    "plt.show()"
   ]
  },
  {
   "cell_type": "markdown",
   "id": "e9204d3a",
   "metadata": {},
   "source": [
    "## PLOT 4: Spending by item"
   ]
  },
  {
   "cell_type": "code",
   "execution_count": 74,
   "id": "a0c33450",
   "metadata": {
    "vscode": {
     "languageId": "python"
    }
   },
   "outputs": [
    {
     "data": {
      "text/html": [
       "<div>\n",
       "<style scoped>\n",
       "    .dataframe tbody tr th:only-of-type {\n",
       "        vertical-align: middle;\n",
       "    }\n",
       "\n",
       "    .dataframe tbody tr th {\n",
       "        vertical-align: top;\n",
       "    }\n",
       "\n",
       "    .dataframe thead th {\n",
       "        text-align: right;\n",
       "    }\n",
       "</style>\n",
       "<table border=\"1\" class=\"dataframe\">\n",
       "  <thead>\n",
       "    <tr style=\"text-align: right;\">\n",
       "      <th></th>\n",
       "      <th>Date</th>\n",
       "      <th>ITS Spend Category Name</th>\n",
       "      <th>Origin Tourism Region</th>\n",
       "      <th>Destination Tourism Region</th>\n",
       "      <th>Spend</th>\n",
       "      <th>Destination Province</th>\n",
       "      <th>Benchmark</th>\n",
       "      <th>Origin Country</th>\n",
       "      <th>Origin Country / Province</th>\n",
       "      <th>Year</th>\n",
       "      <th>Destination Region</th>\n",
       "      <th>Origin</th>\n",
       "    </tr>\n",
       "  </thead>\n",
       "  <tbody>\n",
       "    <tr>\n",
       "      <th>0</th>\n",
       "      <td>2019-11-01</td>\n",
       "      <td>Clothes and Gifts</td>\n",
       "      <td>Kawartha and Northumberland</td>\n",
       "      <td>Rest of Newfoundland</td>\n",
       "      <td>3146.431579</td>\n",
       "      <td>Newfoundland and Labrador</td>\n",
       "      <td>Final</td>\n",
       "      <td>Canada</td>\n",
       "      <td>Ontario</td>\n",
       "      <td>2019</td>\n",
       "      <td>Rest of Newfoundland</td>\n",
       "      <td>Domestic</td>\n",
       "    </tr>\n",
       "    <tr>\n",
       "      <th>1</th>\n",
       "      <td>2019-12-01</td>\n",
       "      <td>Clothes and Gifts</td>\n",
       "      <td>Kawartha and Northumberland</td>\n",
       "      <td>Rest of Newfoundland</td>\n",
       "      <td>4056.945100</td>\n",
       "      <td>Newfoundland and Labrador</td>\n",
       "      <td>Final</td>\n",
       "      <td>Canada</td>\n",
       "      <td>Ontario</td>\n",
       "      <td>2019</td>\n",
       "      <td>Rest of Newfoundland</td>\n",
       "      <td>Domestic</td>\n",
       "    </tr>\n",
       "  </tbody>\n",
       "</table>\n",
       "</div>"
      ],
      "text/plain": [
       "         Date ITS Spend Category Name        Origin Tourism Region  \\\n",
       "0  2019-11-01       Clothes and Gifts  Kawartha and Northumberland   \n",
       "1  2019-12-01       Clothes and Gifts  Kawartha and Northumberland   \n",
       "\n",
       "  Destination Tourism Region        Spend       Destination Province  \\\n",
       "0       Rest of Newfoundland  3146.431579  Newfoundland and Labrador   \n",
       "1       Rest of Newfoundland  4056.945100  Newfoundland and Labrador   \n",
       "\n",
       "  Benchmark Origin Country Origin Country / Province  Year  \\\n",
       "0     Final         Canada                   Ontario  2019   \n",
       "1     Final         Canada                   Ontario  2019   \n",
       "\n",
       "     Destination Region    Origin  \n",
       "0  Rest of Newfoundland  Domestic  \n",
       "1  Rest of Newfoundland  Domestic  "
      ]
     },
     "execution_count": 74,
     "metadata": {},
     "output_type": "execute_result"
    }
   ],
   "source": [
    "df.head(2)"
   ]
  },
  {
   "cell_type": "code",
   "execution_count": 80,
   "id": "87c0e08b",
   "metadata": {
    "vscode": {
     "languageId": "python"
    }
   },
   "outputs": [
    {
     "data": {
      "text/html": [
       "<div>\n",
       "<style scoped>\n",
       "    .dataframe tbody tr th:only-of-type {\n",
       "        vertical-align: middle;\n",
       "    }\n",
       "\n",
       "    .dataframe tbody tr th {\n",
       "        vertical-align: top;\n",
       "    }\n",
       "\n",
       "    .dataframe thead th {\n",
       "        text-align: right;\n",
       "    }\n",
       "</style>\n",
       "<table border=\"1\" class=\"dataframe\">\n",
       "  <thead>\n",
       "    <tr style=\"text-align: right;\">\n",
       "      <th></th>\n",
       "      <th>Origin</th>\n",
       "      <th>Year</th>\n",
       "      <th>Date</th>\n",
       "      <th>ITS Spend Category Name</th>\n",
       "      <th>Spend</th>\n",
       "      <th>Month</th>\n",
       "    </tr>\n",
       "  </thead>\n",
       "  <tbody>\n",
       "    <tr>\n",
       "      <th>0</th>\n",
       "      <td>Domestic</td>\n",
       "      <td>2018</td>\n",
       "      <td>2018-01-01</td>\n",
       "      <td>Accommodation</td>\n",
       "      <td>1.187110e+08</td>\n",
       "      <td>1</td>\n",
       "    </tr>\n",
       "    <tr>\n",
       "      <th>1</th>\n",
       "      <td>Domestic</td>\n",
       "      <td>2018</td>\n",
       "      <td>2018-01-01</td>\n",
       "      <td>Clothes and Gifts</td>\n",
       "      <td>2.190898e+07</td>\n",
       "      <td>1</td>\n",
       "    </tr>\n",
       "    <tr>\n",
       "      <th>2</th>\n",
       "      <td>Domestic</td>\n",
       "      <td>2018</td>\n",
       "      <td>2018-01-01</td>\n",
       "      <td>Food and Beverage</td>\n",
       "      <td>1.458165e+08</td>\n",
       "      <td>1</td>\n",
       "    </tr>\n",
       "    <tr>\n",
       "      <th>3</th>\n",
       "      <td>Domestic</td>\n",
       "      <td>2018</td>\n",
       "      <td>2018-01-01</td>\n",
       "      <td>Others (Souvenirs, Shopping, Etc.)</td>\n",
       "      <td>2.893628e+07</td>\n",
       "      <td>1</td>\n",
       "    </tr>\n",
       "    <tr>\n",
       "      <th>4</th>\n",
       "      <td>Domestic</td>\n",
       "      <td>2018</td>\n",
       "      <td>2018-01-01</td>\n",
       "      <td>Recreation and Entertainment</td>\n",
       "      <td>6.983559e+07</td>\n",
       "      <td>1</td>\n",
       "    </tr>\n",
       "  </tbody>\n",
       "</table>\n",
       "</div>"
      ],
      "text/plain": [
       "     Origin  Year        Date             ITS Spend Category Name  \\\n",
       "0  Domestic  2018  2018-01-01                       Accommodation   \n",
       "1  Domestic  2018  2018-01-01                   Clothes and Gifts   \n",
       "2  Domestic  2018  2018-01-01                   Food and Beverage   \n",
       "3  Domestic  2018  2018-01-01  Others (Souvenirs, Shopping, Etc.)   \n",
       "4  Domestic  2018  2018-01-01        Recreation and Entertainment   \n",
       "\n",
       "          Spend  Month  \n",
       "0  1.187110e+08      1  \n",
       "1  2.190898e+07      1  \n",
       "2  1.458165e+08      1  \n",
       "3  2.893628e+07      1  \n",
       "4  6.983559e+07      1  "
      ]
     },
     "execution_count": 80,
     "metadata": {},
     "output_type": "execute_result"
    }
   ],
   "source": [
    "df_items = df[df['Destination Province'] == 'British Columbia'].groupby(['Origin', 'Year','Date', 'ITS Spend Category Name'], as_index = False)['Spend'].sum()\n",
    "df_items['Month'] = df_items['Date'].apply(lambda x: int(x[5:7]))\n",
    "df_items.head()"
   ]
  },
  {
   "cell_type": "code",
   "execution_count": 86,
   "id": "5e6b78ec",
   "metadata": {
    "vscode": {
     "languageId": "python"
    }
   },
   "outputs": [],
   "source": [
    "df_items_dom = df_items[df_items['Origin'] == 'Domestic']\n",
    "df_items_int = df_items[df_items['Origin'] == 'International']"
   ]
  },
  {
   "cell_type": "code",
   "execution_count": 87,
   "id": "7f22cad4",
   "metadata": {
    "vscode": {
     "languageId": "python"
    }
   },
   "outputs": [
    {
     "data": {
      "text/html": [
       "<div>\n",
       "<style scoped>\n",
       "    .dataframe tbody tr th:only-of-type {\n",
       "        vertical-align: middle;\n",
       "    }\n",
       "\n",
       "    .dataframe tbody tr th {\n",
       "        vertical-align: top;\n",
       "    }\n",
       "\n",
       "    .dataframe thead th {\n",
       "        text-align: right;\n",
       "    }\n",
       "</style>\n",
       "<table border=\"1\" class=\"dataframe\">\n",
       "  <thead>\n",
       "    <tr style=\"text-align: right;\">\n",
       "      <th></th>\n",
       "      <th>Origin</th>\n",
       "      <th>Year</th>\n",
       "      <th>Date</th>\n",
       "      <th>ITS Spend Category Name</th>\n",
       "      <th>Spend_x</th>\n",
       "      <th>Month</th>\n",
       "      <th>Spend_y</th>\n",
       "      <th>Pct Spend</th>\n",
       "    </tr>\n",
       "  </thead>\n",
       "  <tbody>\n",
       "    <tr>\n",
       "      <th>42</th>\n",
       "      <td>Domestic</td>\n",
       "      <td>2019</td>\n",
       "      <td>2019-08-01</td>\n",
       "      <td>Accommodation</td>\n",
       "      <td>3.587354e+08</td>\n",
       "      <td>8</td>\n",
       "      <td>1.535719e+09</td>\n",
       "      <td>23.359437</td>\n",
       "    </tr>\n",
       "    <tr>\n",
       "      <th>43</th>\n",
       "      <td>Domestic</td>\n",
       "      <td>2019</td>\n",
       "      <td>2019-08-01</td>\n",
       "      <td>Clothes and Gifts</td>\n",
       "      <td>5.037514e+07</td>\n",
       "      <td>8</td>\n",
       "      <td>1.535719e+09</td>\n",
       "      <td>3.280231</td>\n",
       "    </tr>\n",
       "    <tr>\n",
       "      <th>44</th>\n",
       "      <td>Domestic</td>\n",
       "      <td>2019</td>\n",
       "      <td>2019-08-01</td>\n",
       "      <td>Food and Beverage</td>\n",
       "      <td>3.988523e+08</td>\n",
       "      <td>8</td>\n",
       "      <td>1.535719e+09</td>\n",
       "      <td>25.971691</td>\n",
       "    </tr>\n",
       "    <tr>\n",
       "      <th>45</th>\n",
       "      <td>Domestic</td>\n",
       "      <td>2019</td>\n",
       "      <td>2019-08-01</td>\n",
       "      <td>Others (Souvenirs, Shopping, Etc.)</td>\n",
       "      <td>6.519344e+07</td>\n",
       "      <td>8</td>\n",
       "      <td>1.535719e+09</td>\n",
       "      <td>4.245141</td>\n",
       "    </tr>\n",
       "    <tr>\n",
       "      <th>46</th>\n",
       "      <td>Domestic</td>\n",
       "      <td>2019</td>\n",
       "      <td>2019-08-01</td>\n",
       "      <td>Recreation and Entertainment</td>\n",
       "      <td>1.691518e+08</td>\n",
       "      <td>8</td>\n",
       "      <td>1.535719e+09</td>\n",
       "      <td>11.014501</td>\n",
       "    </tr>\n",
       "    <tr>\n",
       "      <th>47</th>\n",
       "      <td>Domestic</td>\n",
       "      <td>2019</td>\n",
       "      <td>2019-08-01</td>\n",
       "      <td>Transportation</td>\n",
       "      <td>4.934113e+08</td>\n",
       "      <td>8</td>\n",
       "      <td>1.535719e+09</td>\n",
       "      <td>32.129000</td>\n",
       "    </tr>\n",
       "  </tbody>\n",
       "</table>\n",
       "</div>"
      ],
      "text/plain": [
       "      Origin  Year        Date             ITS Spend Category Name  \\\n",
       "42  Domestic  2019  2019-08-01                       Accommodation   \n",
       "43  Domestic  2019  2019-08-01                   Clothes and Gifts   \n",
       "44  Domestic  2019  2019-08-01                   Food and Beverage   \n",
       "45  Domestic  2019  2019-08-01  Others (Souvenirs, Shopping, Etc.)   \n",
       "46  Domestic  2019  2019-08-01        Recreation and Entertainment   \n",
       "47  Domestic  2019  2019-08-01                      Transportation   \n",
       "\n",
       "         Spend_x  Month       Spend_y  Pct Spend  \n",
       "42  3.587354e+08      8  1.535719e+09  23.359437  \n",
       "43  5.037514e+07      8  1.535719e+09   3.280231  \n",
       "44  3.988523e+08      8  1.535719e+09  25.971691  \n",
       "45  6.519344e+07      8  1.535719e+09   4.245141  \n",
       "46  1.691518e+08      8  1.535719e+09  11.014501  \n",
       "47  4.934113e+08      8  1.535719e+09  32.129000  "
      ]
     },
     "execution_count": 87,
     "metadata": {},
     "output_type": "execute_result"
    }
   ],
   "source": [
    "year == 2019\n",
    "df_plt = df_items_dom[df_items_dom['Year'] == year].copy()\n",
    "df_month = df_plt.groupby('Month')['Spend'].sum()\n",
    "df_plt_pct = pd.merge(df_plt, df_month, on='Month', how='left')\n",
    "df_plt_pct['Pct Spend'] = (df_plt_pct['Spend_x'] / df_plt_pct['Spend_y'])*100\n",
    "df_plt_pct[df_plt_pct['Month'] == 8]"
   ]
  },
  {
   "cell_type": "code",
   "execution_count": 103,
   "id": "4711723f",
   "metadata": {
    "vscode": {
     "languageId": "python"
    }
   },
   "outputs": [],
   "source": [
    "def spend_total_categories(df, year, domestic = False):\n",
    "\n",
    "    if domestic:\n",
    "        df_items_market = df[df['Origin'] == 'Domestic']\n",
    "    else:\n",
    "        df_items_market = df[df['Origin'] == 'International']\n",
    "\n",
    "    df_plt = df_items_market[df_items_market['Year'] == year].copy()\n",
    "    df_month = df_plt.groupby('Month')['Spend'].sum()\n",
    "    df_plt_pct = pd.merge(df_plt, df_month, on='Month', how='left')\n",
    "    df_plt_pct['Pct Spend'] = (df_plt_pct['Spend_x'] / df_plt_pct['Spend_y'])*100\n",
    "    df_plt_pct[df_plt_pct['Month'] == 8]\n",
    "    cat = ['Accommodation', 'Food and Beverage','Transportation',\\\n",
    "           'Recreation and Entertainment', 'Clothes and Gifts', 'Others (Souvenirs, Shopping, Etc.)']\n",
    "\n",
    "    bot = 0  \n",
    "\n",
    "    fig=plt.figure(figsize=(15,7))\n",
    "     \n",
    "    for i in range(len(cat)):\n",
    "        df_ax = df_plt_pct[df_plt_pct['ITS Spend Category Name'] == cat[i]]\n",
    "        \n",
    "        plt.bar(df_ax['Month'], df_ax['Pct Spend'], bottom=bot)\n",
    "        \n",
    "        bot = bot + df_ax['Pct Spend'].values\n",
    "        \n",
    "    plt.xticks(range(1,13))\n",
    "    plt.xlabel(\"Month\")\n",
    "    plt.ylabel(\" % Spend by item\")\n",
    "    if domestic:\n",
    "        plt.title('Spend by visitors from other domestic markets')\n",
    "    else:\n",
    "        plt.title('Spend by visitors from international markets')\n",
    "    plt.legend(cat)\n",
    "    plt.show()\n",
    "    "
   ]
  },
  {
   "cell_type": "code",
   "execution_count": 104,
   "id": "26432f89",
   "metadata": {
    "vscode": {
     "languageId": "python"
    }
   },
   "outputs": [
    {
     "data": {
      "image/png": "[encoded data removed]",
      "text/plain": [
       "<Figure size 1080x504 with 1 Axes>"
      ]
     },
     "metadata": {
      "needs_background": "light"
     },
     "output_type": "display_data"
    }
   ],
   "source": [
    "spend_total_categories(df_items, year, domestic = False)"
   ]
  },
  {
   "cell_type": "code",
   "execution_count": 105,
   "id": "885bd735",
   "metadata": {
    "vscode": {
     "languageId": "python"
    }
   },
   "outputs": [
    {
     "data": {
      "image/png": "[encoded data removed]",
      "text/plain": [
       "<Figure size 1080x504 with 1 Axes>"
      ]
     },
     "metadata": {
      "needs_background": "light"
     },
     "output_type": "display_data"
    }
   ],
   "source": [
    "spend_total_categories(df_items, year, domestic = True)"
   ]
  },
  {
   "cell_type": "code",
   "execution_count": null,
   "id": "6755c70b",
   "metadata": {
    "vscode": {
     "languageId": "python"
    }
   },
   "outputs": [],
   "source": []
  }
 ],
 "metadata": {
  "kernelspec": {
   "display_name": "py39",
   "language": "python",
   "name": "py39"
  }
 },
 "nbformat": 4,
 "nbformat_minor": 5
}
