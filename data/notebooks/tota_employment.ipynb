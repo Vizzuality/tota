{
 "cells": [
  {
   "cell_type": "markdown",
   "metadata": {},
   "source": [
    "### Employment from Statistics Canada\n",
    "Data downloaded from https://www150.statcan.gc.ca/t1/tbl1/en/tv.action?pid=1410038702  \n",
    "Data from 2006 - ongoing"
   ]
  },
  {
   "cell_type": "code",
   "execution_count": 2,
   "metadata": {},
   "outputs": [],
   "source": [
    "import pandas as pd \n",
    "import matplotlib.pyplot as plt\n",
    "import datetime\n",
    "import plotly.graph_objects as go\n",
    "import numpy as np"
   ]
  },
  {
   "cell_type": "code",
   "execution_count": 3,
   "metadata": {},
   "outputs": [],
   "source": [
    "### Download latest table\n",
    "\n",
    "import requests, zipfile, io\n",
    "r = requests.get(\"https://www150.statcan.gc.ca/n1/tbl/csv/14100387-eng.zip\")\n",
    "z = zipfile.ZipFile(io.BytesIO(r.content))\n",
    "z.extractall(f\"../data/raw\")"
   ]
  },
  {
   "cell_type": "code",
   "execution_count": 5,
   "metadata": {},
   "outputs": [
    {
     "name": "stderr",
     "output_type": "stream",
     "text": [
      "/Users/angel/opt/anaconda3/envs/py39/lib/python3.9/site-packages/IPython/core/interactiveshell.py:3444: DtypeWarning: Columns (12) have mixed types.Specify dtype option on import or set low_memory=False.\n",
      "  exec(code_obj, self.user_global_ns, self.user_ns)\n"
     ]
    }
   ],
   "source": [
    "## Read original source Labor Force Survey \n",
    "data = pd.read_csv(f'../data/raw/14100387.csv')"
   ]
  },
  {
   "cell_type": "code",
   "execution_count": 6,
   "metadata": {},
   "outputs": [
    {
     "data": {
      "text/html": [
       "<div>\n",
       "<style scoped>\n",
       "    .dataframe tbody tr th:only-of-type {\n",
       "        vertical-align: middle;\n",
       "    }\n",
       "\n",
       "    .dataframe tbody tr th {\n",
       "        vertical-align: top;\n",
       "    }\n",
       "\n",
       "    .dataframe thead th {\n",
       "        text-align: right;\n",
       "    }\n",
       "</style>\n",
       "<table border=\"1\" class=\"dataframe\">\n",
       "  <thead>\n",
       "    <tr style=\"text-align: right;\">\n",
       "      <th></th>\n",
       "      <th>REF_DATE</th>\n",
       "      <th>GEO</th>\n",
       "      <th>DGUID</th>\n",
       "      <th>Labour force characteristics</th>\n",
       "      <th>Statistics</th>\n",
       "      <th>UOM</th>\n",
       "      <th>UOM_ID</th>\n",
       "      <th>SCALAR_FACTOR</th>\n",
       "      <th>SCALAR_ID</th>\n",
       "      <th>VECTOR</th>\n",
       "      <th>COORDINATE</th>\n",
       "      <th>VALUE</th>\n",
       "      <th>STATUS</th>\n",
       "      <th>SYMBOL</th>\n",
       "      <th>TERMINATED</th>\n",
       "      <th>DECIMALS</th>\n",
       "    </tr>\n",
       "  </thead>\n",
       "  <tbody>\n",
       "    <tr>\n",
       "      <th>0</th>\n",
       "      <td>2006-03</td>\n",
       "      <td>Canada</td>\n",
       "      <td>2016A000011124</td>\n",
       "      <td>Population</td>\n",
       "      <td>Estimate</td>\n",
       "      <td>Persons</td>\n",
       "      <td>249</td>\n",
       "      <td>thousands</td>\n",
       "      <td>3</td>\n",
       "      <td>v1235063379</td>\n",
       "      <td>1.1.1</td>\n",
       "      <td>25979.9</td>\n",
       "      <td>NaN</td>\n",
       "      <td>NaN</td>\n",
       "      <td>NaN</td>\n",
       "      <td>1</td>\n",
       "    </tr>\n",
       "    <tr>\n",
       "      <th>1</th>\n",
       "      <td>2006-03</td>\n",
       "      <td>Canada</td>\n",
       "      <td>2016A000011124</td>\n",
       "      <td>Labour force</td>\n",
       "      <td>Estimate</td>\n",
       "      <td>Persons</td>\n",
       "      <td>249</td>\n",
       "      <td>thousands</td>\n",
       "      <td>3</td>\n",
       "      <td>v1235063380</td>\n",
       "      <td>1.2.1</td>\n",
       "      <td>17124.8</td>\n",
       "      <td>NaN</td>\n",
       "      <td>NaN</td>\n",
       "      <td>NaN</td>\n",
       "      <td>1</td>\n",
       "    </tr>\n",
       "    <tr>\n",
       "      <th>2</th>\n",
       "      <td>2006-03</td>\n",
       "      <td>Canada</td>\n",
       "      <td>2016A000011124</td>\n",
       "      <td>Labour force</td>\n",
       "      <td>Standard error of estimate</td>\n",
       "      <td>Persons</td>\n",
       "      <td>249</td>\n",
       "      <td>thousands</td>\n",
       "      <td>3</td>\n",
       "      <td>v1235063381</td>\n",
       "      <td>1.2.2</td>\n",
       "      <td>36.6</td>\n",
       "      <td>NaN</td>\n",
       "      <td>NaN</td>\n",
       "      <td>NaN</td>\n",
       "      <td>1</td>\n",
       "    </tr>\n",
       "    <tr>\n",
       "      <th>3</th>\n",
       "      <td>2006-03</td>\n",
       "      <td>Canada</td>\n",
       "      <td>2016A000011124</td>\n",
       "      <td>Labour force</td>\n",
       "      <td>Standard error of year-over-year change</td>\n",
       "      <td>Persons</td>\n",
       "      <td>249</td>\n",
       "      <td>thousands</td>\n",
       "      <td>3</td>\n",
       "      <td>v1235063382</td>\n",
       "      <td>1.2.3</td>\n",
       "      <td>NaN</td>\n",
       "      <td>..</td>\n",
       "      <td>NaN</td>\n",
       "      <td>NaN</td>\n",
       "      <td>1</td>\n",
       "    </tr>\n",
       "    <tr>\n",
       "      <th>4</th>\n",
       "      <td>2006-03</td>\n",
       "      <td>Canada</td>\n",
       "      <td>2016A000011124</td>\n",
       "      <td>Employment</td>\n",
       "      <td>Estimate</td>\n",
       "      <td>Persons</td>\n",
       "      <td>249</td>\n",
       "      <td>thousands</td>\n",
       "      <td>3</td>\n",
       "      <td>v1235063383</td>\n",
       "      <td>1.3.1</td>\n",
       "      <td>15943.7</td>\n",
       "      <td>NaN</td>\n",
       "      <td>NaN</td>\n",
       "      <td>NaN</td>\n",
       "      <td>1</td>\n",
       "    </tr>\n",
       "  </tbody>\n",
       "</table>\n",
       "</div>"
      ],
      "text/plain": [
       "  REF_DATE     GEO           DGUID Labour force characteristics  \\\n",
       "0  2006-03  Canada  2016A000011124                   Population   \n",
       "1  2006-03  Canada  2016A000011124                 Labour force   \n",
       "2  2006-03  Canada  2016A000011124                 Labour force   \n",
       "3  2006-03  Canada  2016A000011124                 Labour force   \n",
       "4  2006-03  Canada  2016A000011124                   Employment   \n",
       "\n",
       "                                Statistics      UOM  UOM_ID SCALAR_FACTOR  \\\n",
       "0                                 Estimate  Persons     249     thousands   \n",
       "1                                 Estimate  Persons     249     thousands   \n",
       "2               Standard error of estimate  Persons     249     thousands   \n",
       "3  Standard error of year-over-year change  Persons     249     thousands   \n",
       "4                                 Estimate  Persons     249     thousands   \n",
       "\n",
       "   SCALAR_ID       VECTOR COORDINATE    VALUE STATUS  SYMBOL  TERMINATED  \\\n",
       "0          3  v1235063379      1.1.1  25979.9    NaN     NaN         NaN   \n",
       "1          3  v1235063380      1.2.1  17124.8    NaN     NaN         NaN   \n",
       "2          3  v1235063381      1.2.2     36.6    NaN     NaN         NaN   \n",
       "3          3  v1235063382      1.2.3      NaN     ..     NaN         NaN   \n",
       "4          3  v1235063383      1.3.1  15943.7    NaN     NaN         NaN   \n",
       "\n",
       "   DECIMALS  \n",
       "0         1  \n",
       "1         1  \n",
       "2         1  \n",
       "3         1  \n",
       "4         1  "
      ]
     },
     "execution_count": 6,
     "metadata": {},
     "output_type": "execute_result"
    }
   ],
   "source": [
    "data.head()"
   ]
  },
  {
   "cell_type": "code",
   "execution_count": 7,
   "metadata": {},
   "outputs": [
    {
     "data": {
      "text/plain": [
       "array(['2006-03', '2006-04', '2006-05', '2006-06', '2006-07', '2006-08',\n",
       "       '2006-09', '2006-10', '2006-11', '2006-12', '2007-01', '2007-02',\n",
       "       '2007-03', '2007-04', '2007-05', '2007-06', '2007-07', '2007-08',\n",
       "       '2007-09', '2007-10', '2007-11', '2007-12', '2008-01', '2008-02',\n",
       "       '2008-03', '2008-04', '2008-05', '2008-06', '2008-07', '2008-08',\n",
       "       '2008-09', '2008-10', '2008-11', '2008-12', '2009-01', '2009-02',\n",
       "       '2009-03', '2009-04', '2009-05', '2009-06', '2009-07', '2009-08',\n",
       "       '2009-09', '2009-10', '2009-11', '2009-12', '2010-01', '2010-02',\n",
       "       '2010-03', '2010-04', '2010-05', '2010-06', '2010-07', '2010-08',\n",
       "       '2010-09', '2010-10', '2010-11', '2010-12', '2011-01', '2011-02',\n",
       "       '2011-03', '2011-04', '2011-05', '2011-06', '2011-07', '2011-08',\n",
       "       '2011-09', '2011-10', '2011-11', '2011-12', '2012-01', '2012-02',\n",
       "       '2012-03', '2012-04', '2012-05', '2012-06', '2012-07', '2012-08',\n",
       "       '2012-09', '2012-10', '2012-11', '2012-12', '2013-01', '2013-02',\n",
       "       '2013-03', '2013-04', '2013-05', '2013-06', '2013-07', '2013-08',\n",
       "       '2013-09', '2013-10', '2013-11', '2013-12', '2014-01', '2014-02',\n",
       "       '2014-03', '2014-04', '2014-05', '2014-06', '2014-07', '2014-08',\n",
       "       '2014-09', '2014-10', '2014-11', '2014-12', '2015-01', '2015-02',\n",
       "       '2015-03', '2015-04', '2015-05', '2015-06', '2015-07', '2015-08',\n",
       "       '2015-09', '2015-10', '2015-11', '2015-12', '2016-01', '2016-02',\n",
       "       '2016-03', '2016-04', '2016-05', '2016-06', '2016-07', '2016-08',\n",
       "       '2016-09', '2016-10', '2016-11', '2016-12', '2017-01', '2017-02',\n",
       "       '2017-03', '2017-04', '2017-05', '2017-06', '2017-07', '2017-08',\n",
       "       '2017-09', '2017-10', '2017-11', '2017-12', '2018-01', '2018-02',\n",
       "       '2018-03', '2018-04', '2018-05', '2018-06', '2018-07', '2018-08',\n",
       "       '2018-09', '2018-10', '2018-11', '2018-12', '2019-01', '2019-02',\n",
       "       '2019-03', '2019-04', '2019-05', '2019-06', '2019-07', '2019-08',\n",
       "       '2019-09', '2019-10', '2019-11', '2019-12', '2020-01', '2020-02',\n",
       "       '2020-03', '2020-04', '2020-05', '2020-06', '2020-07', '2020-08',\n",
       "       '2020-09', '2020-10', '2020-11', '2020-12', '2021-01', '2021-02',\n",
       "       '2021-03', '2021-04', '2021-05', '2021-06', '2021-07', '2021-08',\n",
       "       '2021-09', '2021-10', '2021-11', '2021-12', '2022-01', '2022-02',\n",
       "       '2022-03', '2022-04'], dtype=object)"
      ]
     },
     "execution_count": 7,
     "metadata": {},
     "output_type": "execute_result"
    }
   ],
   "source": [
    "data['REF_DATE'].unique()"
   ]
  },
  {
   "cell_type": "code",
   "execution_count": 8,
   "metadata": {},
   "outputs": [],
   "source": [
    "### Select only data for Bristish Columbia\n",
    "data = data[(data.GEO.isin(['British Columbia',\n",
    "       'Vancouver Island and Coast, British Columbia',\n",
    "       'Lower Mainland-Southwest, British Columbia',\n",
    "       'Thompson-Okanagan, British Columbia',\n",
    "       'Kootenay, British Columbia', 'Cariboo, British Columbia',\n",
    "       'North Coast and Nechako, British Columbia',\n",
    "       'Northeast, British Columbia'])) & (data.Statistics == 'Estimate')]"
   ]
  },
  {
   "cell_type": "code",
   "execution_count": 9,
   "metadata": {},
   "outputs": [
    {
     "data": {
      "text/plain": [
       "array(['British Columbia', 'Vancouver Island and Coast, British Columbia',\n",
       "       'Lower Mainland-Southwest, British Columbia',\n",
       "       'Thompson-Okanagan, British Columbia',\n",
       "       'Kootenay, British Columbia', 'Cariboo, British Columbia',\n",
       "       'North Coast and Nechako, British Columbia',\n",
       "       'Northeast, British Columbia'], dtype=object)"
      ]
     },
     "execution_count": 9,
     "metadata": {},
     "output_type": "execute_result"
    }
   ],
   "source": [
    "data.GEO.unique()"
   ]
  },
  {
   "cell_type": "code",
   "execution_count": 10,
   "metadata": {},
   "outputs": [
    {
     "data": {
      "text/plain": [
       "array(['Population', 'Labour force', 'Employment', 'Full-time employment',\n",
       "       'Part-time employment', 'Unemployment', 'Not in labour force',\n",
       "       'Unemployment rate', 'Participation rate', 'Employment rate'],\n",
       "      dtype=object)"
      ]
     },
     "execution_count": 10,
     "metadata": {},
     "output_type": "execute_result"
    }
   ],
   "source": [
    "data['Labour force characteristics'].unique()"
   ]
  },
  {
   "cell_type": "code",
   "execution_count": 11,
   "metadata": {},
   "outputs": [
    {
     "data": {
      "text/plain": [
       "Index(['REF_DATE', 'GEO', 'DGUID', 'Labour force characteristics',\n",
       "       'Statistics', 'UOM', 'UOM_ID', 'SCALAR_FACTOR', 'SCALAR_ID', 'VECTOR',\n",
       "       'COORDINATE', 'VALUE', 'STATUS', 'SYMBOL', 'TERMINATED', 'DECIMALS'],\n",
       "      dtype='object')"
      ]
     },
     "execution_count": 11,
     "metadata": {},
     "output_type": "execute_result"
    }
   ],
   "source": [
    "data.columns"
   ]
  },
  {
   "cell_type": "code",
   "execution_count": 12,
   "metadata": {},
   "outputs": [],
   "source": [
    "## Select only useful columns\n",
    "data = data[['REF_DATE', 'GEO','Labour force characteristics','UOM','SCALAR_FACTOR','VALUE']]"
   ]
  },
  {
   "cell_type": "code",
   "execution_count": 13,
   "metadata": {},
   "outputs": [
    {
     "data": {
      "text/html": [
       "<div>\n",
       "<style scoped>\n",
       "    .dataframe tbody tr th:only-of-type {\n",
       "        vertical-align: middle;\n",
       "    }\n",
       "\n",
       "    .dataframe tbody tr th {\n",
       "        vertical-align: top;\n",
       "    }\n",
       "\n",
       "    .dataframe thead th {\n",
       "        text-align: right;\n",
       "    }\n",
       "</style>\n",
       "<table border=\"1\" class=\"dataframe\">\n",
       "  <thead>\n",
       "    <tr style=\"text-align: right;\">\n",
       "      <th></th>\n",
       "      <th>REF_DATE</th>\n",
       "      <th>GEO</th>\n",
       "      <th>Labour force characteristics</th>\n",
       "      <th>UOM</th>\n",
       "      <th>SCALAR_FACTOR</th>\n",
       "      <th>VALUE</th>\n",
       "    </tr>\n",
       "  </thead>\n",
       "  <tbody>\n",
       "    <tr>\n",
       "      <th>1904</th>\n",
       "      <td>2006-03</td>\n",
       "      <td>British Columbia</td>\n",
       "      <td>Population</td>\n",
       "      <td>Persons</td>\n",
       "      <td>thousands</td>\n",
       "      <td>3422.1</td>\n",
       "    </tr>\n",
       "    <tr>\n",
       "      <th>1905</th>\n",
       "      <td>2006-03</td>\n",
       "      <td>British Columbia</td>\n",
       "      <td>Labour force</td>\n",
       "      <td>Persons</td>\n",
       "      <td>thousands</td>\n",
       "      <td>2205.4</td>\n",
       "    </tr>\n",
       "    <tr>\n",
       "      <th>1908</th>\n",
       "      <td>2006-03</td>\n",
       "      <td>British Columbia</td>\n",
       "      <td>Employment</td>\n",
       "      <td>Persons</td>\n",
       "      <td>thousands</td>\n",
       "      <td>2092.2</td>\n",
       "    </tr>\n",
       "    <tr>\n",
       "      <th>1911</th>\n",
       "      <td>2006-03</td>\n",
       "      <td>British Columbia</td>\n",
       "      <td>Full-time employment</td>\n",
       "      <td>Persons</td>\n",
       "      <td>thousands</td>\n",
       "      <td>1640.2</td>\n",
       "    </tr>\n",
       "    <tr>\n",
       "      <th>1914</th>\n",
       "      <td>2006-03</td>\n",
       "      <td>British Columbia</td>\n",
       "      <td>Part-time employment</td>\n",
       "      <td>Persons</td>\n",
       "      <td>thousands</td>\n",
       "      <td>452.0</td>\n",
       "    </tr>\n",
       "  </tbody>\n",
       "</table>\n",
       "</div>"
      ],
      "text/plain": [
       "     REF_DATE               GEO Labour force characteristics      UOM  \\\n",
       "1904  2006-03  British Columbia                   Population  Persons   \n",
       "1905  2006-03  British Columbia                 Labour force  Persons   \n",
       "1908  2006-03  British Columbia                   Employment  Persons   \n",
       "1911  2006-03  British Columbia         Full-time employment  Persons   \n",
       "1914  2006-03  British Columbia         Part-time employment  Persons   \n",
       "\n",
       "     SCALAR_FACTOR   VALUE  \n",
       "1904     thousands  3422.1  \n",
       "1905     thousands  2205.4  \n",
       "1908     thousands  2092.2  \n",
       "1911     thousands  1640.2  \n",
       "1914     thousands   452.0  "
      ]
     },
     "execution_count": 13,
     "metadata": {},
     "output_type": "execute_result"
    }
   ],
   "source": [
    "data.head()"
   ]
  },
  {
   "cell_type": "code",
   "execution_count": 14,
   "metadata": {},
   "outputs": [],
   "source": [
    "### Keep only data from 2016 onwards\n",
    "data = data[pd.DatetimeIndex(data['REF_DATE']).year > 2015]"
   ]
  },
  {
   "cell_type": "code",
   "execution_count": 15,
   "metadata": {},
   "outputs": [
    {
     "data": {
      "text/plain": [
       "array(['British Columbia', 'Vancouver Island and Coast, British Columbia',\n",
       "       'Lower Mainland-Southwest, British Columbia',\n",
       "       'Thompson-Okanagan, British Columbia',\n",
       "       'Kootenay, British Columbia', 'Cariboo, British Columbia',\n",
       "       'North Coast and Nechako, British Columbia',\n",
       "       'Northeast, British Columbia'], dtype=object)"
      ]
     },
     "execution_count": 15,
     "metadata": {},
     "output_type": "execute_result"
    }
   ],
   "source": [
    "data.GEO.unique()"
   ]
  },
  {
   "cell_type": "code",
   "execution_count": 16,
   "metadata": {},
   "outputs": [
    {
     "data": {
      "image/png": "[encoded data removed]",
      "text/plain": [
       "<Figure size 720x720 with 6 Axes>"
      ]
     },
     "metadata": {
      "needs_background": "light"
     },
     "output_type": "display_data"
    }
   ],
   "source": [
    "## Sneak peak into data\n",
    "variables = ['Population','Labour force','Employment','Unemployment']\n",
    "\n",
    "fig,axes = plt.subplots(3,2,figsize = (10,10))\n",
    "for a,ax in enumerate(axes.flatten()):\n",
    "    df = data[(data['GEO'] == data.GEO.unique()[a])]\n",
    "    for variable in variables:\n",
    "        ax.plot(pd.DatetimeIndex(df[df['Labour force characteristics'] == variable]['REF_DATE']),df[df['Labour force characteristics'] == variable]['VALUE'])\n",
    "        ax.set_title(f'{data.GEO.unique()[a]}')"
   ]
  },
  {
   "cell_type": "code",
   "execution_count": 17,
   "metadata": {},
   "outputs": [],
   "source": [
    "## Replace Economic Region names with corresponding Tourism Regions\n",
    "correspondence = {'British Columbia':'British Columbia',\n",
    "                  'Vancouver Island and Coast, British Columbia': 'Vancouver Island',\n",
    "                  'Lower Mainland-Southwest, British Columbia':'Vancouver Coast and Mountains',\n",
    "                  'Thompson-Okanagan, British Columbia':  'Thompson-Okanagan',\n",
    "                  'Kootenay, British Columbia': 'Kootenay Rockies', \n",
    "                  'Cariboo, British Columbia':'Cariboo Chilcotin Coast',\n",
    "                  'North Coast and Nechako, British Columbia':'Northern British Columbia',\n",
    "                  'Northeast, British Columbia':'Northern British Columbia'}"
   ]
  },
  {
   "cell_type": "code",
   "execution_count": 18,
   "metadata": {},
   "outputs": [],
   "source": [
    "data['Tourism_region'] =data['GEO']"
   ]
  },
  {
   "cell_type": "code",
   "execution_count": 19,
   "metadata": {},
   "outputs": [],
   "source": [
    "data.replace({'Tourism_region':correspondence}, inplace=True)"
   ]
  },
  {
   "cell_type": "code",
   "execution_count": 20,
   "metadata": {},
   "outputs": [
    {
     "data": {
      "text/plain": [
       "Index(['REF_DATE', 'GEO', 'Labour force characteristics', 'UOM',\n",
       "       'SCALAR_FACTOR', 'VALUE', 'Tourism_region'],\n",
       "      dtype='object')"
      ]
     },
     "execution_count": 20,
     "metadata": {},
     "output_type": "execute_result"
    }
   ],
   "source": [
    "data.columns"
   ]
  },
  {
   "cell_type": "code",
   "execution_count": 21,
   "metadata": {},
   "outputs": [],
   "source": [
    "## Get values in appropriate units\n",
    "data_count = data[data['Labour force characteristics'].isin(['Population','Labour force','Employment','Unemployment'])].copy()\n",
    "#data_count = data_count.groupby(['Tourism_region','REF_DATE','Labour force characteristics']).sum().reset_index()\n",
    "data_count['VALUE']= data_count['VALUE']*1000"
   ]
  },
  {
   "cell_type": "code",
   "execution_count": 22,
   "metadata": {},
   "outputs": [],
   "source": [
    "data_per = data[data['Labour force characteristics'].isin(['Employment rate','Unemployment rate'])].copy()\n",
    "#data_per = data_per.groupby(['Tourism_region','REF_DATE','Labour force characteristics']).mean().reset_index()"
   ]
  },
  {
   "cell_type": "code",
   "execution_count": 23,
   "metadata": {},
   "outputs": [],
   "source": [
    "df = data_count.append(data_per)"
   ]
  },
  {
   "cell_type": "code",
   "execution_count": 24,
   "metadata": {},
   "outputs": [],
   "source": [
    "### Format data with data model for database\n",
    "df.rename(columns={'REF_DATE':'date',\n",
    "                   'GEO':'category_2',\n",
    "                   'Tourism_region':'region',\n",
    "                   'VALUE':'value',\n",
    "                   'Labour force characteristics':'indicator_code'}, inplace=True)"
   ]
  },
  {
   "cell_type": "code",
   "execution_count": 25,
   "metadata": {},
   "outputs": [],
   "source": [
    "df['category_1']=np.nan"
   ]
  },
  {
   "cell_type": "code",
   "execution_count": 26,
   "metadata": {},
   "outputs": [],
   "source": [
    "df = df[['indicator_code','date','region','category_1','category_2','value']]"
   ]
  },
  {
   "cell_type": "code",
   "execution_count": 27,
   "metadata": {},
   "outputs": [],
   "source": [
    "## Set indicator names\n",
    "indicator_names = {'Population':'population_by_economic_region',\n",
    "                  'Labour force': 'labour_force_by_economic_region',\n",
    "                  'Employment':'total_employment_by_economic_region',\n",
    "                  'Unemployment':  'total_unemployment_by_economic_region',\n",
    "                  'Employment rate':'total_employment_rate_by_economic_region',\n",
    "                  'Unemployment rate':'total_unemployment_rate_by_economic_region'}"
   ]
  },
  {
   "cell_type": "code",
   "execution_count": 28,
   "metadata": {},
   "outputs": [],
   "source": [
    "df.replace({'indicator_code':indicator_names}, inplace=True)"
   ]
  },
  {
   "cell_type": "code",
   "execution_count": 29,
   "metadata": {},
   "outputs": [],
   "source": [
    "### delete 'British Columbia tag'\n",
    "## Replace Economic Region names with corresponding Tourism Regions\n",
    "correspondence = {'British Columbia':'British Columbia',\n",
    "                  'Vancouver Island and Coast, British Columbia': 'Vancouver Island and Coast',\n",
    "                  'Lower Mainland-Southwest, British Columbia':'Lower Mainland-Southwest',\n",
    "                  'Thompson-Okanagan, British Columbia':  'Thompson-Okanagan',\n",
    "                  'Kootenay, British Columbia': 'Kootenay', \n",
    "                  'Cariboo, British Columbia':'Cariboo',\n",
    "                  'North Coast and Nechako, British Columbia':'North Coast and Nechako',\n",
    "                  'Northeast, British Columbia':'Northeast'}"
   ]
  },
  {
   "cell_type": "code",
   "execution_count": 30,
   "metadata": {},
   "outputs": [],
   "source": [
    "df.replace({'category_2':correspondence}, inplace=True)"
   ]
  },
  {
   "cell_type": "code",
   "execution_count": 33,
   "metadata": {},
   "outputs": [],
   "source": [
    "df.sort_values(by=['indicator_code','date']).to_csv(f'../data/processed/Labour_Force_Survey_2016_2022.csv')"
   ]
  },
  {
   "cell_type": "code",
   "execution_count": null,
   "metadata": {},
   "outputs": [],
   "source": []
  }
 ],
 "metadata": {
  "kernelspec": {
   "display_name": "Python 3",
   "language": "python",
   "name": "python3"
  },
  "language_info": {
   "codemirror_mode": {
    "name": "ipython",
    "version": 3
   },
   "file_extension": ".py",
   "mimetype": "text/x-python",
   "name": "python",
   "nbconvert_exporter": "python",
   "pygments_lexer": "ipython3",
   "version": "3.9.7"
  }
 },
 "nbformat": 4,
 "nbformat_minor": 4
}
