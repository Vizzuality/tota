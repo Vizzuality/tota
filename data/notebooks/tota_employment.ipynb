{
 "cells": [
  {
   "cell_type": "markdown",
   "metadata": {},
   "source": [
    "### Employment from Statistics Canada\n",
    "Data downloaded from https://www150.statcan.gc.ca/t1/tbl1/en/tv.action?pid=1410038702  \n",
    "Data from 2006 - ongoing"
   ]
  },
  {
   "cell_type": "code",
   "execution_count": 3,
   "metadata": {},
   "outputs": [],
   "source": [
    "import pandas as pd \n",
    "import matplotlib.pyplot as plt\n",
    "import datetime\n",
    "import plotly.graph_objects as go\n",
    "import numpy as np"
   ]
  },
  {
   "cell_type": "code",
   "execution_count": null,
   "metadata": {},
   "outputs": [],
   "source": [
    "### Download latest table\n",
    "\n",
    "import requests, zipfile, io\n",
    "r = requests.get(\"https://www150.statcan.gc.ca/n1/tbl/csv/14100387-eng.zip\")\n",
    "z = zipfile.ZipFile(io.BytesIO(r.content))\n",
    "z.extractall(f\"../data/raw\")"
   ]
  },
  {
   "cell_type": "code",
   "execution_count": 213,
   "metadata": {},
   "outputs": [
    {
     "name": "stderr",
     "output_type": "stream",
     "text": [
      "/Users/tamarahuete/opt/anaconda3/lib/python3.7/site-packages/IPython/core/interactiveshell.py:3058: DtypeWarning:\n",
      "\n",
      "Columns (12) have mixed types.Specify dtype option on import or set low_memory=False.\n",
      "\n"
     ]
    }
   ],
   "source": [
    "## Read original source Labor Force Survey \n",
    "data = pd.read_csv(f'../data/raw/14100387-eng/14100387.csv')"
   ]
  },
  {
   "cell_type": "code",
   "execution_count": 214,
   "metadata": {},
   "outputs": [
    {
     "data": {
      "text/html": [
       "<div>\n",
       "<style scoped>\n",
       "    .dataframe tbody tr th:only-of-type {\n",
       "        vertical-align: middle;\n",
       "    }\n",
       "\n",
       "    .dataframe tbody tr th {\n",
       "        vertical-align: top;\n",
       "    }\n",
       "\n",
       "    .dataframe thead th {\n",
       "        text-align: right;\n",
       "    }\n",
       "</style>\n",
       "<table border=\"1\" class=\"dataframe\">\n",
       "  <thead>\n",
       "    <tr style=\"text-align: right;\">\n",
       "      <th></th>\n",
       "      <th>REF_DATE</th>\n",
       "      <th>GEO</th>\n",
       "      <th>DGUID</th>\n",
       "      <th>Labour force characteristics</th>\n",
       "      <th>Statistics</th>\n",
       "      <th>UOM</th>\n",
       "      <th>UOM_ID</th>\n",
       "      <th>SCALAR_FACTOR</th>\n",
       "      <th>SCALAR_ID</th>\n",
       "      <th>VECTOR</th>\n",
       "      <th>COORDINATE</th>\n",
       "      <th>VALUE</th>\n",
       "      <th>STATUS</th>\n",
       "      <th>SYMBOL</th>\n",
       "      <th>TERMINATED</th>\n",
       "      <th>DECIMALS</th>\n",
       "    </tr>\n",
       "  </thead>\n",
       "  <tbody>\n",
       "    <tr>\n",
       "      <th>0</th>\n",
       "      <td>2006-03</td>\n",
       "      <td>Canada</td>\n",
       "      <td>2016A000011124</td>\n",
       "      <td>Population</td>\n",
       "      <td>Estimate</td>\n",
       "      <td>Persons</td>\n",
       "      <td>249</td>\n",
       "      <td>thousands</td>\n",
       "      <td>3</td>\n",
       "      <td>v1235063379</td>\n",
       "      <td>1.1.1</td>\n",
       "      <td>25979.9</td>\n",
       "      <td>NaN</td>\n",
       "      <td>NaN</td>\n",
       "      <td>NaN</td>\n",
       "      <td>1</td>\n",
       "    </tr>\n",
       "    <tr>\n",
       "      <th>1</th>\n",
       "      <td>2006-03</td>\n",
       "      <td>Canada</td>\n",
       "      <td>2016A000011124</td>\n",
       "      <td>Labour force</td>\n",
       "      <td>Estimate</td>\n",
       "      <td>Persons</td>\n",
       "      <td>249</td>\n",
       "      <td>thousands</td>\n",
       "      <td>3</td>\n",
       "      <td>v1235063380</td>\n",
       "      <td>1.2.1</td>\n",
       "      <td>17124.8</td>\n",
       "      <td>NaN</td>\n",
       "      <td>NaN</td>\n",
       "      <td>NaN</td>\n",
       "      <td>1</td>\n",
       "    </tr>\n",
       "    <tr>\n",
       "      <th>2</th>\n",
       "      <td>2006-03</td>\n",
       "      <td>Canada</td>\n",
       "      <td>2016A000011124</td>\n",
       "      <td>Labour force</td>\n",
       "      <td>Standard error of estimate</td>\n",
       "      <td>Persons</td>\n",
       "      <td>249</td>\n",
       "      <td>thousands</td>\n",
       "      <td>3</td>\n",
       "      <td>v1235063381</td>\n",
       "      <td>1.2.2</td>\n",
       "      <td>36.6</td>\n",
       "      <td>NaN</td>\n",
       "      <td>NaN</td>\n",
       "      <td>NaN</td>\n",
       "      <td>1</td>\n",
       "    </tr>\n",
       "    <tr>\n",
       "      <th>3</th>\n",
       "      <td>2006-03</td>\n",
       "      <td>Canada</td>\n",
       "      <td>2016A000011124</td>\n",
       "      <td>Labour force</td>\n",
       "      <td>Standard error of year-over-year change</td>\n",
       "      <td>Persons</td>\n",
       "      <td>249</td>\n",
       "      <td>thousands</td>\n",
       "      <td>3</td>\n",
       "      <td>v1235063382</td>\n",
       "      <td>1.2.3</td>\n",
       "      <td>NaN</td>\n",
       "      <td>..</td>\n",
       "      <td>NaN</td>\n",
       "      <td>NaN</td>\n",
       "      <td>1</td>\n",
       "    </tr>\n",
       "    <tr>\n",
       "      <th>4</th>\n",
       "      <td>2006-03</td>\n",
       "      <td>Canada</td>\n",
       "      <td>2016A000011124</td>\n",
       "      <td>Employment</td>\n",
       "      <td>Estimate</td>\n",
       "      <td>Persons</td>\n",
       "      <td>249</td>\n",
       "      <td>thousands</td>\n",
       "      <td>3</td>\n",
       "      <td>v1235063383</td>\n",
       "      <td>1.3.1</td>\n",
       "      <td>15943.7</td>\n",
       "      <td>NaN</td>\n",
       "      <td>NaN</td>\n",
       "      <td>NaN</td>\n",
       "      <td>1</td>\n",
       "    </tr>\n",
       "  </tbody>\n",
       "</table>\n",
       "</div>"
      ],
      "text/plain": [
       "  REF_DATE     GEO           DGUID Labour force characteristics  \\\n",
       "0  2006-03  Canada  2016A000011124                   Population   \n",
       "1  2006-03  Canada  2016A000011124                 Labour force   \n",
       "2  2006-03  Canada  2016A000011124                 Labour force   \n",
       "3  2006-03  Canada  2016A000011124                 Labour force   \n",
       "4  2006-03  Canada  2016A000011124                   Employment   \n",
       "\n",
       "                                Statistics      UOM  UOM_ID SCALAR_FACTOR  \\\n",
       "0                                 Estimate  Persons     249     thousands   \n",
       "1                                 Estimate  Persons     249     thousands   \n",
       "2               Standard error of estimate  Persons     249     thousands   \n",
       "3  Standard error of year-over-year change  Persons     249     thousands   \n",
       "4                                 Estimate  Persons     249     thousands   \n",
       "\n",
       "   SCALAR_ID       VECTOR COORDINATE    VALUE STATUS  SYMBOL  TERMINATED  \\\n",
       "0          3  v1235063379      1.1.1  25979.9    NaN     NaN         NaN   \n",
       "1          3  v1235063380      1.2.1  17124.8    NaN     NaN         NaN   \n",
       "2          3  v1235063381      1.2.2     36.6    NaN     NaN         NaN   \n",
       "3          3  v1235063382      1.2.3      NaN     ..     NaN         NaN   \n",
       "4          3  v1235063383      1.3.1  15943.7    NaN     NaN         NaN   \n",
       "\n",
       "   DECIMALS  \n",
       "0         1  \n",
       "1         1  \n",
       "2         1  \n",
       "3         1  \n",
       "4         1  "
      ]
     },
     "execution_count": 214,
     "metadata": {},
     "output_type": "execute_result"
    }
   ],
   "source": [
    "data.head()"
   ]
  },
  {
   "cell_type": "code",
   "execution_count": 215,
   "metadata": {},
   "outputs": [],
   "source": [
    "### Select only data for Bristish Columbia\n",
    "data = data[(data.GEO.isin(['British Columbia',\n",
    "       'Vancouver Island and Coast, British Columbia',\n",
    "       'Lower Mainland-Southwest, British Columbia',\n",
    "       'Thompson-Okanagan, British Columbia',\n",
    "       'Kootenay, British Columbia', 'Cariboo, British Columbia',\n",
    "       'North Coast and Nechako, British Columbia',\n",
    "       'Northeast, British Columbia'])) & (data.Statistics == 'Estimate')]"
   ]
  },
  {
   "cell_type": "code",
   "execution_count": 216,
   "metadata": {},
   "outputs": [
    {
     "data": {
      "text/plain": [
       "array(['British Columbia', 'Vancouver Island and Coast, British Columbia',\n",
       "       'Lower Mainland-Southwest, British Columbia',\n",
       "       'Thompson-Okanagan, British Columbia',\n",
       "       'Kootenay, British Columbia', 'Cariboo, British Columbia',\n",
       "       'North Coast and Nechako, British Columbia',\n",
       "       'Northeast, British Columbia'], dtype=object)"
      ]
     },
     "execution_count": 216,
     "metadata": {},
     "output_type": "execute_result"
    }
   ],
   "source": [
    "data.GEO.unique()"
   ]
  },
  {
   "cell_type": "code",
   "execution_count": 217,
   "metadata": {},
   "outputs": [
    {
     "data": {
      "text/plain": [
       "array(['Population', 'Labour force', 'Employment', 'Full-time employment',\n",
       "       'Part-time employment', 'Unemployment', 'Not in labour force',\n",
       "       'Unemployment rate', 'Participation rate', 'Employment rate'],\n",
       "      dtype=object)"
      ]
     },
     "execution_count": 217,
     "metadata": {},
     "output_type": "execute_result"
    }
   ],
   "source": [
    "data['Labour force characteristics'].unique()"
   ]
  },
  {
   "cell_type": "code",
   "execution_count": 218,
   "metadata": {},
   "outputs": [
    {
     "data": {
      "text/plain": [
       "Index(['REF_DATE', 'GEO', 'DGUID', 'Labour force characteristics',\n",
       "       'Statistics', 'UOM', 'UOM_ID', 'SCALAR_FACTOR', 'SCALAR_ID', 'VECTOR',\n",
       "       'COORDINATE', 'VALUE', 'STATUS', 'SYMBOL', 'TERMINATED', 'DECIMALS'],\n",
       "      dtype='object')"
      ]
     },
     "execution_count": 218,
     "metadata": {},
     "output_type": "execute_result"
    }
   ],
   "source": [
    "data.columns"
   ]
  },
  {
   "cell_type": "code",
   "execution_count": 219,
   "metadata": {},
   "outputs": [],
   "source": [
    "## Select only useful columns\n",
    "data = data[['REF_DATE', 'GEO','Labour force characteristics','UOM','SCALAR_FACTOR','VALUE']]"
   ]
  },
  {
   "cell_type": "code",
   "execution_count": 220,
   "metadata": {},
   "outputs": [
    {
     "data": {
      "text/html": [
       "<div>\n",
       "<style scoped>\n",
       "    .dataframe tbody tr th:only-of-type {\n",
       "        vertical-align: middle;\n",
       "    }\n",
       "\n",
       "    .dataframe tbody tr th {\n",
       "        vertical-align: top;\n",
       "    }\n",
       "\n",
       "    .dataframe thead th {\n",
       "        text-align: right;\n",
       "    }\n",
       "</style>\n",
       "<table border=\"1\" class=\"dataframe\">\n",
       "  <thead>\n",
       "    <tr style=\"text-align: right;\">\n",
       "      <th></th>\n",
       "      <th>REF_DATE</th>\n",
       "      <th>GEO</th>\n",
       "      <th>Labour force characteristics</th>\n",
       "      <th>UOM</th>\n",
       "      <th>SCALAR_FACTOR</th>\n",
       "      <th>VALUE</th>\n",
       "    </tr>\n",
       "  </thead>\n",
       "  <tbody>\n",
       "    <tr>\n",
       "      <th>1904</th>\n",
       "      <td>2006-03</td>\n",
       "      <td>British Columbia</td>\n",
       "      <td>Population</td>\n",
       "      <td>Persons</td>\n",
       "      <td>thousands</td>\n",
       "      <td>3422.1</td>\n",
       "    </tr>\n",
       "    <tr>\n",
       "      <th>1905</th>\n",
       "      <td>2006-03</td>\n",
       "      <td>British Columbia</td>\n",
       "      <td>Labour force</td>\n",
       "      <td>Persons</td>\n",
       "      <td>thousands</td>\n",
       "      <td>2205.4</td>\n",
       "    </tr>\n",
       "    <tr>\n",
       "      <th>1908</th>\n",
       "      <td>2006-03</td>\n",
       "      <td>British Columbia</td>\n",
       "      <td>Employment</td>\n",
       "      <td>Persons</td>\n",
       "      <td>thousands</td>\n",
       "      <td>2092.2</td>\n",
       "    </tr>\n",
       "    <tr>\n",
       "      <th>1911</th>\n",
       "      <td>2006-03</td>\n",
       "      <td>British Columbia</td>\n",
       "      <td>Full-time employment</td>\n",
       "      <td>Persons</td>\n",
       "      <td>thousands</td>\n",
       "      <td>1640.2</td>\n",
       "    </tr>\n",
       "    <tr>\n",
       "      <th>1914</th>\n",
       "      <td>2006-03</td>\n",
       "      <td>British Columbia</td>\n",
       "      <td>Part-time employment</td>\n",
       "      <td>Persons</td>\n",
       "      <td>thousands</td>\n",
       "      <td>452.0</td>\n",
       "    </tr>\n",
       "  </tbody>\n",
       "</table>\n",
       "</div>"
      ],
      "text/plain": [
       "     REF_DATE               GEO Labour force characteristics      UOM  \\\n",
       "1904  2006-03  British Columbia                   Population  Persons   \n",
       "1905  2006-03  British Columbia                 Labour force  Persons   \n",
       "1908  2006-03  British Columbia                   Employment  Persons   \n",
       "1911  2006-03  British Columbia         Full-time employment  Persons   \n",
       "1914  2006-03  British Columbia         Part-time employment  Persons   \n",
       "\n",
       "     SCALAR_FACTOR   VALUE  \n",
       "1904     thousands  3422.1  \n",
       "1905     thousands  2205.4  \n",
       "1908     thousands  2092.2  \n",
       "1911     thousands  1640.2  \n",
       "1914     thousands   452.0  "
      ]
     },
     "execution_count": 220,
     "metadata": {},
     "output_type": "execute_result"
    }
   ],
   "source": [
    "data.head()"
   ]
  },
  {
   "cell_type": "code",
   "execution_count": 221,
   "metadata": {},
   "outputs": [],
   "source": [
    "### Keep only data from 2016 onwards\n",
    "data = data[pd.DatetimeIndex(data['REF_DATE']).year > 2015]"
   ]
  },
  {
   "cell_type": "code",
   "execution_count": 222,
   "metadata": {},
   "outputs": [
    {
     "data": {
      "text/plain": [
       "array(['British Columbia', 'Vancouver Island and Coast, British Columbia',\n",
       "       'Lower Mainland-Southwest, British Columbia',\n",
       "       'Thompson-Okanagan, British Columbia',\n",
       "       'Kootenay, British Columbia', 'Cariboo, British Columbia',\n",
       "       'North Coast and Nechako, British Columbia',\n",
       "       'Northeast, British Columbia'], dtype=object)"
      ]
     },
     "execution_count": 222,
     "metadata": {},
     "output_type": "execute_result"
    }
   ],
   "source": [
    "data.GEO.unique()"
   ]
  },
  {
   "cell_type": "code",
   "execution_count": 223,
   "metadata": {},
   "outputs": [
    {
     "data": {
      "image/png": "[encoded data removed]",
      "text/plain": [
       "<Figure size 720x720 with 6 Axes>"
      ]
     },
     "metadata": {
      "needs_background": "light"
     },
     "output_type": "display_data"
    }
   ],
   "source": [
    "## Sneak peak into data\n",
    "variables = ['Population','Labour force','Employment','Unemployment']\n",
    "\n",
    "fig,axes = plt.subplots(3,2,figsize = (10,10))\n",
    "for a,ax in enumerate(axes.flatten()):\n",
    "    df = data[(data['GEO'] == data.GEO.unique()[a])]\n",
    "    for variable in variables:\n",
    "        ax.plot(pd.DatetimeIndex(df[df['Labour force characteristics'] == variable]['REF_DATE']),df[df['Labour force characteristics'] == variable]['VALUE'])\n",
    "        ax.set_title(f'{data.GEO.unique()[a]}')"
   ]
  },
  {
   "cell_type": "code",
   "execution_count": 224,
   "metadata": {},
   "outputs": [],
   "source": [
    "## Replace Economic Region names with corresponding Tourism Regions\n",
    "correspondence = {'British Columbia':'British Columbia',\n",
    "                  'Vancouver Island and Coast, British Columbia': 'Vancouver Island',\n",
    "                  'Lower Mainland-Southwest, British Columbia':'Vancouver Coast and Mountains',\n",
    "                  'Thompson-Okanagan, British Columbia':  'Thompson-Okanagan',\n",
    "                  'Kootenay, British Columbia': 'Kootenay Rockies', \n",
    "                  'Cariboo, British Columbia':'Cariboo Chilcotin Coast',\n",
    "                  'North Coast and Nechako, British Columbia':'Northern British Columbia',\n",
    "                  'Northeast, British Columbia':'Northern British Columbia'}"
   ]
  },
  {
   "cell_type": "code",
   "execution_count": 225,
   "metadata": {},
   "outputs": [],
   "source": [
    "data['Tourism_region'] =data['GEO']"
   ]
  },
  {
   "cell_type": "code",
   "execution_count": 226,
   "metadata": {},
   "outputs": [],
   "source": [
    "data.replace({'Tourism_region':correspondence}, inplace=True)"
   ]
  },
  {
   "cell_type": "code",
   "execution_count": 227,
   "metadata": {},
   "outputs": [
    {
     "data": {
      "text/plain": [
       "Index(['REF_DATE', 'GEO', 'Labour force characteristics', 'UOM',\n",
       "       'SCALAR_FACTOR', 'VALUE', 'Tourism_region'],\n",
       "      dtype='object')"
      ]
     },
     "execution_count": 227,
     "metadata": {},
     "output_type": "execute_result"
    }
   ],
   "source": [
    "data.columns"
   ]
  },
  {
   "cell_type": "code",
   "execution_count": 228,
   "metadata": {},
   "outputs": [
    {
     "name": "stderr",
     "output_type": "stream",
     "text": [
      "/Users/tamarahuete/opt/anaconda3/lib/python3.7/site-packages/ipykernel_launcher.py:4: SettingWithCopyWarning:\n",
      "\n",
      "\n",
      "A value is trying to be set on a copy of a slice from a DataFrame.\n",
      "Try using .loc[row_indexer,col_indexer] = value instead\n",
      "\n",
      "See the caveats in the documentation: https://pandas.pydata.org/pandas-docs/stable/user_guide/indexing.html#returning-a-view-versus-a-copy\n",
      "\n"
     ]
    }
   ],
   "source": [
    "## Get values in appropriate units\n",
    "data_count = data[data['Labour force characteristics'].isin(['Population','Labour force','Employment','Unemployment'])]\n",
    "#data_count = data_count.groupby(['Tourism_region','REF_DATE','Labour force characteristics']).sum().reset_index()\n",
    "data_count['VALUE']= data_count['VALUE']*1000"
   ]
  },
  {
   "cell_type": "code",
   "execution_count": 229,
   "metadata": {},
   "outputs": [],
   "source": [
    "data_per = data[data['Labour force characteristics'].isin(['Employment rate','Unemployment rate'])]\n",
    "#data_per = data_per.groupby(['Tourism_region','REF_DATE','Labour force characteristics']).mean().reset_index()"
   ]
  },
  {
   "cell_type": "code",
   "execution_count": 230,
   "metadata": {},
   "outputs": [],
   "source": [
    "df = data_count.append(data_per)"
   ]
  },
  {
   "cell_type": "code",
   "execution_count": 231,
   "metadata": {},
   "outputs": [],
   "source": [
    "### Format data with data model for database\n",
    "df.rename(columns={'REF_DATE':'date',\n",
    "                   'GEO':'category_2',\n",
    "                   'Tourism_region':'region',\n",
    "                   'VALUE':'value',\n",
    "                   'Labour force characteristics':'indicator_code'}, inplace=True)"
   ]
  },
  {
   "cell_type": "code",
   "execution_count": 232,
   "metadata": {},
   "outputs": [],
   "source": [
    "df['category_1']=np.nan"
   ]
  },
  {
   "cell_type": "code",
   "execution_count": 233,
   "metadata": {},
   "outputs": [],
   "source": [
    "df = df[['indicator_code','date','region','category_1','category_2','value']]"
   ]
  },
  {
   "cell_type": "code",
   "execution_count": 234,
   "metadata": {},
   "outputs": [],
   "source": [
    "## Set indicator names\n",
    "indicator_names = {'Population':'population_by_economic_region',\n",
    "                  'Labour force': 'labour_force_by_economic_region',\n",
    "                  'Employment':'total_employment_by_economic_region',\n",
    "                  'Unemployment':  'total_unemployment_by_economic_region',\n",
    "                  'Employment rate':'total_employment_rate_by_economic_region',\n",
    "                  'Unemployment rate':'total_unemployment_rate_by_economic_region'}"
   ]
  },
  {
   "cell_type": "code",
   "execution_count": 235,
   "metadata": {},
   "outputs": [],
   "source": [
    "df.replace({'indicator_code':indicator_names}, inplace=True)"
   ]
  },
  {
   "cell_type": "code",
   "execution_count": 236,
   "metadata": {},
   "outputs": [],
   "source": [
    "### delete 'British Columbia tag'\n",
    "## Replace Economic Region names with corresponding Tourism Regions\n",
    "correspondence = {'British Columbia':'British Columbia',\n",
    "                  'Vancouver Island and Coast, British Columbia': 'Vancouver Island and Coast',\n",
    "                  'Lower Mainland-Southwest, British Columbia':'Lower Mainland-Southwest',\n",
    "                  'Thompson-Okanagan, British Columbia':  'Thompson-Okanagan',\n",
    "                  'Kootenay, British Columbia': 'Kootenay', \n",
    "                  'Cariboo, British Columbia':'Cariboo',\n",
    "                  'North Coast and Nechako, British Columbia':'North Coast and Nechako',\n",
    "                  'Northeast, British Columbia':'Northeast'}"
   ]
  },
  {
   "cell_type": "code",
   "execution_count": 237,
   "metadata": {},
   "outputs": [],
   "source": [
    "df.replace({'category_2':correspondence}, inplace=True)"
   ]
  },
  {
   "cell_type": "code",
   "execution_count": 240,
   "metadata": {},
   "outputs": [],
   "source": [
    "df.sort_values(by=['indicator_code','date']).to_csv(f'../data/processed/Labour_Force_Survey_2016_2021.csv')"
   ]
  },
  {
   "cell_type": "code",
   "execution_count": null,
   "metadata": {},
   "outputs": [],
   "source": []
  }
 ],
 "metadata": {
  "kernelspec": {
   "display_name": "Python 3",
   "language": "python",
   "name": "python3"
  },
  "language_info": {
   "codemirror_mode": {
    "name": "ipython",
    "version": 3
   },
   "file_extension": ".py",
   "mimetype": "text/x-python",
   "name": "python",
   "nbconvert_exporter": "python",
   "pygments_lexer": "ipython3",
   "version": "3.7.4"
  }
 },
 "nbformat": 4,
 "nbformat_minor": 4
}
